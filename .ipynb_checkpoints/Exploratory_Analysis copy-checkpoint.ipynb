{
 "cells": [
  {
   "cell_type": "markdown",
   "id": "a6bb44fe-1a72-440e-98de-0456b3fac1fd",
   "metadata": {
    "id": "93NdAhnsnalv"
   },
   "source": [
    "<img src='fig/vertical_COMILLAS_COLOR.jpg' style= 'width:70mm'>\n",
    "\n",
    "<h1 style='font-family: Optima;color:#ecac00'>\n",
    "Exploratory Analysis\n",
    "<a class=\"tocSkip\">\n",
    "</h1>\n",
    "  \n",
    "</h1>  "
   ]
  },
  {
   "cell_type": "code",
   "execution_count": 1,
   "id": "02a54703",
   "metadata": {},
   "outputs": [],
   "source": [
    "# Imports\n",
    "import numpy as np\n",
    "import pandas as pd\n",
    "import matplotlib.pyplot as plt\n",
    "import seaborn as sns\n",
    "import scipy as scp\n",
    "from scipy import stats\n",
    "from pylab import *\n",
    "import warnings\n",
    "warnings.filterwarnings('ignore')"
   ]
  },
  {
   "cell_type": "markdown",
   "id": "1b80aa6c",
   "metadata": {},
   "source": [
    "---\n",
    "# Table of contents\n",
    "1. [Description of the dataset](#intro)\n",
    "    1. [ Variable types](#intro2)\n",
    "    2. [ Variable description ](#intro3)\n",
    "2. [Variable representation](#ci)\n",
    "    1. [Plots of continuous variables](#ci3)\n",
    "    2. [Plots of discrete variables](#ci4)\n",
    "    3. [Identification of outliers](#ci5)\n",
    "---"
   ]
  },
  {
   "cell_type": "markdown",
   "id": "86ac3958",
   "metadata": {},
   "source": [
    "We proceed to import the database, in which we have 7 variables\n",
    "+ **age**: shows the age of the person\n",
    "+ **gender**: if the person is male or female\n",
    "+ **bmi**: body mass index, it is the weight of a person in kilograms (or pounds) divided by the square of the height in meters (or feet)\n",
    "+ **children**: the number of children a person has\n",
    "+ **region**: the region you live in\n",
    "+ **charges**: the charges of the person"
   ]
  },
  {
   "cell_type": "code",
   "execution_count": 2,
   "id": "8a47bba0",
   "metadata": {},
   "outputs": [
    {
     "data": {
      "text/html": [
       "<div>\n",
       "<style scoped>\n",
       "    .dataframe tbody tr th:only-of-type {\n",
       "        vertical-align: middle;\n",
       "    }\n",
       "\n",
       "    .dataframe tbody tr th {\n",
       "        vertical-align: top;\n",
       "    }\n",
       "\n",
       "    .dataframe thead th {\n",
       "        text-align: right;\n",
       "    }\n",
       "</style>\n",
       "<table border=\"1\" class=\"dataframe\">\n",
       "  <thead>\n",
       "    <tr style=\"text-align: right;\">\n",
       "      <th></th>\n",
       "      <th>age</th>\n",
       "      <th>sex</th>\n",
       "      <th>bmi</th>\n",
       "      <th>children</th>\n",
       "      <th>smoker</th>\n",
       "      <th>region</th>\n",
       "      <th>charges</th>\n",
       "    </tr>\n",
       "  </thead>\n",
       "  <tbody>\n",
       "    <tr>\n",
       "      <th>0</th>\n",
       "      <td>19</td>\n",
       "      <td>female</td>\n",
       "      <td>27.900</td>\n",
       "      <td>0</td>\n",
       "      <td>yes</td>\n",
       "      <td>southwest</td>\n",
       "      <td>16884.92400</td>\n",
       "    </tr>\n",
       "    <tr>\n",
       "      <th>1</th>\n",
       "      <td>18</td>\n",
       "      <td>male</td>\n",
       "      <td>33.770</td>\n",
       "      <td>1</td>\n",
       "      <td>no</td>\n",
       "      <td>southeast</td>\n",
       "      <td>1725.55230</td>\n",
       "    </tr>\n",
       "    <tr>\n",
       "      <th>2</th>\n",
       "      <td>28</td>\n",
       "      <td>male</td>\n",
       "      <td>33.000</td>\n",
       "      <td>3</td>\n",
       "      <td>no</td>\n",
       "      <td>southeast</td>\n",
       "      <td>4449.46200</td>\n",
       "    </tr>\n",
       "    <tr>\n",
       "      <th>3</th>\n",
       "      <td>33</td>\n",
       "      <td>male</td>\n",
       "      <td>22.705</td>\n",
       "      <td>0</td>\n",
       "      <td>no</td>\n",
       "      <td>northwest</td>\n",
       "      <td>21984.47061</td>\n",
       "    </tr>\n",
       "    <tr>\n",
       "      <th>4</th>\n",
       "      <td>32</td>\n",
       "      <td>male</td>\n",
       "      <td>28.880</td>\n",
       "      <td>0</td>\n",
       "      <td>no</td>\n",
       "      <td>northwest</td>\n",
       "      <td>3866.85520</td>\n",
       "    </tr>\n",
       "  </tbody>\n",
       "</table>\n",
       "</div>"
      ],
      "text/plain": [
       "   age     sex     bmi  children smoker     region      charges\n",
       "0   19  female  27.900         0    yes  southwest  16884.92400\n",
       "1   18    male  33.770         1     no  southeast   1725.55230\n",
       "2   28    male  33.000         3     no  southeast   4449.46200\n",
       "3   33    male  22.705         0     no  northwest  21984.47061\n",
       "4   32    male  28.880         0     no  northwest   3866.85520"
      ]
     },
     "execution_count": 2,
     "metadata": {},
     "output_type": "execute_result"
    }
   ],
   "source": [
    "data = pd.read_csv('data/insurance.csv', sep=\",\", header=0)\n",
    "data.head()"
   ]
  },
  {
   "cell_type": "markdown",
   "id": "2f92035a",
   "metadata": {},
   "source": [
    "## 1.1 Description of the dataset <a name=\"intro\"></a>\n",
    "---\n",
    "\n",
    "First, the size of the dataset will be calculated. This will be followed by an explanation of the types of variables that are found in it. The description will include their python variable type (int64, object, or float) and their mathematical/statistical type (qualitative, discrete, continuous). Finally, the numerical variables will be analyzed usin the function .describe()."
   ]
  },
  {
   "cell_type": "code",
   "execution_count": 3,
   "id": "cb649c73-5ac9-43fd-8f9a-820543592439",
   "metadata": {},
   "outputs": [
    {
     "data": {
      "text/plain": [
       "(1338, 7)"
      ]
     },
     "execution_count": 3,
     "metadata": {},
     "output_type": "execute_result"
    }
   ],
   "source": [
    "data.shape"
   ]
  },
  {
   "cell_type": "markdown",
   "id": "88b5f0e5-0343-49d8-8480-b5d11762c480",
   "metadata": {},
   "source": [
    "The dataset is composed of 1338 rows and 7 columns."
   ]
  },
  {
   "cell_type": "code",
   "execution_count": 4,
   "id": "0a5df1c0",
   "metadata": {},
   "outputs": [
    {
     "name": "stdout",
     "output_type": "stream",
     "text": [
      "<class 'pandas.core.frame.DataFrame'>\n",
      "RangeIndex: 1338 entries, 0 to 1337\n",
      "Data columns (total 7 columns):\n",
      " #   Column    Non-Null Count  Dtype  \n",
      "---  ------    --------------  -----  \n",
      " 0   age       1338 non-null   int64  \n",
      " 1   sex       1338 non-null   object \n",
      " 2   bmi       1338 non-null   float64\n",
      " 3   children  1338 non-null   int64  \n",
      " 4   smoker    1338 non-null   object \n",
      " 5   region    1338 non-null   object \n",
      " 6   charges   1338 non-null   float64\n",
      "dtypes: float64(2), int64(2), object(3)\n",
      "memory usage: 73.3+ KB\n"
     ]
    }
   ],
   "source": [
    "data.info()"
   ]
  },
  {
   "cell_type": "markdown",
   "id": "d9603b19",
   "metadata": {},
   "source": [
    "Three types of variables can be found in the dataset:\n",
    "+ **int64**: positive or negative integer numbers. The 64 refers to the memory used to store the character, which is 64 bits. In the dataset: age, children. \n",
    "+ **object**: text variables. In the dataset: sex, smoker, region\n",
    "+ **float64**: decimal positive or negative numbers. In the dataset: loads, bmi"
   ]
  },
  {
   "cell_type": "markdown",
   "id": "944a9a71",
   "metadata": {},
   "source": [
    "### Variable types <a name=\"intro2\"></a>\n",
    "---\n",
    "Regarding the types of variables we have:\n",
    "+ Age: discrete quantitative\n",
    "+ Sex: dichotomous qualitative\n",
    "+ Bmi: continuous quantitative\n",
    "+ Children: discrete quantitative\n",
    "+ Smoker: dichotomous qualitative\n",
    "+ Region: qualitative categorical\n",
    "+ Charges: continuous quantitative"
   ]
  },
  {
   "cell_type": "code",
   "execution_count": 5,
   "id": "0e51dac7",
   "metadata": {},
   "outputs": [
    {
     "name": "stdout",
     "output_type": "stream",
     "text": [
      "<class 'pandas.core.frame.DataFrame'>\n",
      "RangeIndex: 1338 entries, 0 to 1337\n",
      "Data columns (total 7 columns):\n",
      " #   Column    Non-Null Count  Dtype   \n",
      "---  ------    --------------  -----   \n",
      " 0   age       1338 non-null   int64   \n",
      " 1   sex       1338 non-null   category\n",
      " 2   bmi       1338 non-null   float64 \n",
      " 3   children  1338 non-null   int64   \n",
      " 4   smoker    1338 non-null   category\n",
      " 5   region    1338 non-null   category\n",
      " 6   charges   1338 non-null   float64 \n",
      "dtypes: category(3), float64(2), int64(2)\n",
      "memory usage: 46.3 KB\n"
     ]
    }
   ],
   "source": [
    "data_objects = data.columns[data.dtypes == 'object'] # Object columns\n",
    "data[data_objects] = data[data_objects].astype('category') # Convert to category\n",
    "data.info()"
   ]
  },
  {
   "cell_type": "markdown",
   "id": "734edf8b",
   "metadata": {},
   "source": [
    "### Variable description <a name=\"intro3\"></a>\n",
    "---"
   ]
  },
  {
   "cell_type": "code",
   "execution_count": 6,
   "id": "868b3db7",
   "metadata": {},
   "outputs": [
    {
     "data": {
      "text/html": [
       "<div>\n",
       "<style scoped>\n",
       "    .dataframe tbody tr th:only-of-type {\n",
       "        vertical-align: middle;\n",
       "    }\n",
       "\n",
       "    .dataframe tbody tr th {\n",
       "        vertical-align: top;\n",
       "    }\n",
       "\n",
       "    .dataframe thead th {\n",
       "        text-align: right;\n",
       "    }\n",
       "</style>\n",
       "<table border=\"1\" class=\"dataframe\">\n",
       "  <thead>\n",
       "    <tr style=\"text-align: right;\">\n",
       "      <th></th>\n",
       "      <th>age</th>\n",
       "      <th>bmi</th>\n",
       "      <th>children</th>\n",
       "      <th>charges</th>\n",
       "    </tr>\n",
       "  </thead>\n",
       "  <tbody>\n",
       "    <tr>\n",
       "      <th>count</th>\n",
       "      <td>1338.000000</td>\n",
       "      <td>1338.000000</td>\n",
       "      <td>1338.000000</td>\n",
       "      <td>1338.000000</td>\n",
       "    </tr>\n",
       "    <tr>\n",
       "      <th>mean</th>\n",
       "      <td>39.207025</td>\n",
       "      <td>30.663397</td>\n",
       "      <td>1.094918</td>\n",
       "      <td>13270.422265</td>\n",
       "    </tr>\n",
       "    <tr>\n",
       "      <th>std</th>\n",
       "      <td>14.049960</td>\n",
       "      <td>6.098187</td>\n",
       "      <td>1.205493</td>\n",
       "      <td>12110.011237</td>\n",
       "    </tr>\n",
       "    <tr>\n",
       "      <th>min</th>\n",
       "      <td>18.000000</td>\n",
       "      <td>15.960000</td>\n",
       "      <td>0.000000</td>\n",
       "      <td>1121.873900</td>\n",
       "    </tr>\n",
       "    <tr>\n",
       "      <th>25%</th>\n",
       "      <td>27.000000</td>\n",
       "      <td>26.296250</td>\n",
       "      <td>0.000000</td>\n",
       "      <td>4740.287150</td>\n",
       "    </tr>\n",
       "    <tr>\n",
       "      <th>50%</th>\n",
       "      <td>39.000000</td>\n",
       "      <td>30.400000</td>\n",
       "      <td>1.000000</td>\n",
       "      <td>9382.033000</td>\n",
       "    </tr>\n",
       "    <tr>\n",
       "      <th>75%</th>\n",
       "      <td>51.000000</td>\n",
       "      <td>34.693750</td>\n",
       "      <td>2.000000</td>\n",
       "      <td>16639.912515</td>\n",
       "    </tr>\n",
       "    <tr>\n",
       "      <th>max</th>\n",
       "      <td>64.000000</td>\n",
       "      <td>53.130000</td>\n",
       "      <td>5.000000</td>\n",
       "      <td>63770.428010</td>\n",
       "    </tr>\n",
       "  </tbody>\n",
       "</table>\n",
       "</div>"
      ],
      "text/plain": [
       "               age          bmi     children       charges\n",
       "count  1338.000000  1338.000000  1338.000000   1338.000000\n",
       "mean     39.207025    30.663397     1.094918  13270.422265\n",
       "std      14.049960     6.098187     1.205493  12110.011237\n",
       "min      18.000000    15.960000     0.000000   1121.873900\n",
       "25%      27.000000    26.296250     0.000000   4740.287150\n",
       "50%      39.000000    30.400000     1.000000   9382.033000\n",
       "75%      51.000000    34.693750     2.000000  16639.912515\n",
       "max      64.000000    53.130000     5.000000  63770.428010"
      ]
     },
     "execution_count": 6,
     "metadata": {},
     "output_type": "execute_result"
    }
   ],
   "source": [
    "data.describe()"
   ]
  },
  {
   "cell_type": "markdown",
   "id": "7d8fab4b",
   "metadata": {},
   "source": [
    "The number of observations for all variables is the same (1338), which means that there are no missing values.\n",
    "\n",
    "Regarding the variable **age**, the minimum is 18, and the maximum is 64. This means that all the insurance beneficiaries are adults. However, they are not especially old, since the pre-pandemic life-expectancy of the USA was 79 years old [1]. The mean is 39 years old.\n",
    "\n",
    "The variable **bmi** has a minimum of 15.96 and a maximum of 53.13. The mean is 30.66. Bearing in mind that a person with a bmi of 18.5 to 24.9 falls within the normal or healthy weight range [2], the dataset is composed mostly of overweight people.\n",
    "\n",
    "The variable **children** has a minimum of 0 and a maximum of 5. The mean is 1.09 children, below the national average of 1.93 [3].\n",
    "\n",
    "The variable **charges** has a minimum of 1121.87 dollars and a maximum of 63770.42 dollars, with an average of 13270.42 dollars and a median of 9382.03 dollars. The average American spent 3704 dollars on health insurance in 2021 [4]. The difference between these numbers could be that there are many Americans that do have health insurance or that their companies pay for most of it, diving down the national average."
   ]
  },
  {
   "cell_type": "markdown",
   "id": "026576aa",
   "metadata": {},
   "source": [
    "### Missing data\n",
    "---\n",
    "In this section we calculate the number of missing values in the dataset, although we already know there are none as per the previous section. "
   ]
  },
  {
   "cell_type": "code",
   "execution_count": 7,
   "id": "9435ac67",
   "metadata": {},
   "outputs": [
    {
     "name": "stdout",
     "output_type": "stream",
     "text": [
      "Are there values NaN?:\n",
      " False\n",
      "Attributes values NaN :\n",
      " age         0\n",
      "sex         0\n",
      "bmi         0\n",
      "children    0\n",
      "smoker      0\n",
      "region      0\n",
      "charges     0\n",
      "dtype: int64\n",
      "Total number of NaN:\n",
      " 0\n"
     ]
    }
   ],
   "source": [
    "print(\"Are there values NaN?:\\n\",data.isnull().values.any())\n",
    "print(\"Attributes values NaN :\\n\",data.isnull().sum())\n",
    "print(\"Total number of NaN:\\n\",data.isnull().sum().sum())"
   ]
  },
  {
   "cell_type": "markdown",
   "id": "e9001a64-abdb-486c-a5e5-96f90793a17c",
   "metadata": {},
   "source": [
    "Having no missing values, it is not necessary to treat them, therefore we proceed to the next point."
   ]
  },
  {
   "cell_type": "markdown",
   "id": "9625ccfd",
   "metadata": {},
   "source": [
    "## 1.2 VARIABLE REPRESENTATION <a name=\"ci\"></a>"
   ]
  },
  {
   "cell_type": "markdown",
   "id": "6e7e26dc-5183-4777-a730-b4524197801f",
   "metadata": {},
   "source": [
    "In this section, we represent the different variables in order to get and idea of their distribution. We will use histograms, density plots and boxplots for the numerical functions and frequency tables for the categorical ones."
   ]
  },
  {
   "cell_type": "markdown",
   "id": "8965dfd9",
   "metadata": {},
   "source": [
    "### 1.2.1.- Plots of continuous variables <a name=\"ci3\"></a>\n",
    "\n",
    "+ There are 4 continuous variables, `AGE`, `CHARGES`, `BMI` and `CHILDREN`"
   ]
  },
  {
   "cell_type": "markdown",
   "id": "fc2b7ea8",
   "metadata": {},
   "source": [
    "### `Histogram`"
   ]
  },
  {
   "cell_type": "markdown",
   "id": "2fb4432f-3f4a-4864-9233-16a307925690",
   "metadata": {},
   "source": [
    "We will use histograms and density plots in order to visualize the distribution of the numerical variables. For the variable children, since it is discrete with fea possibe values, we will only use a histogram plot."
   ]
  },
  {
   "cell_type": "code",
   "execution_count": 8,
   "id": "060392f2",
   "metadata": {},
   "outputs": [
    {
     "data": {
      "image/png": "[encoded data removed]",
      "text/plain": [
       "<Figure size 432x288 with 4 Axes>"
      ]
     },
     "metadata": {
      "needs_background": "light"
     },
     "output_type": "display_data"
    }
   ],
   "source": [
    "sns.set(rc={\"figure.figsize\": (8, 8)})\n",
    "subplot(2,2,1)\n",
    "ax = sns.distplot(data.age)\n",
    "subplot(2,2,2)\n",
    "ax = sns.distplot(data.bmi)\n",
    "subplot(2,2,3)\n",
    "ax = sns.distplot(data.charges)\n",
    "subplot(2,2,4)\n",
    "ax = sns.histplot(data.children)\n",
    "plt.show()\n"
   ]
  },
  {
   "cell_type": "markdown",
   "id": "9b888ad3",
   "metadata": {},
   "source": [
    "#### AGE\n",
    "\n",
    "+ The ages are more or less evenly distributed, except for a peak in the 20 years old bucket and a minimum in the 40 years old bucket."
   ]
  },
  {
   "cell_type": "markdown",
   "id": "3398f650",
   "metadata": {},
   "source": [
    "#### BMI\n",
    "+ The bmi follows a normal distribution, centered around 30. It presents a slight right tail, although it is quite small.\n"
   ]
  },
  {
   "cell_type": "markdown",
   "id": "4bc4a1ca",
   "metadata": {},
   "source": [
    "#### CHARGES"
   ]
  },
  {
   "cell_type": "markdown",
   "id": "006db780-2411-4f75-af0f-dd2cf2eb8885",
   "metadata": {},
   "source": [
    "+ The distribution for this variable is stronkly skewed to the right, achieving its highest peak at values close to 0. It then decreases steadily until about 30000 dollars, where it starts to increase slightly again. There is a small second peak at around 40000 dollars, and then it steadlily decreases again."
   ]
  },
  {
   "cell_type": "markdown",
   "id": "ba897b2d",
   "metadata": {},
   "source": [
    "#### CHILDREN"
   ]
  },
  {
   "cell_type": "markdown",
   "id": "3aeaaf55-2db4-4e82-946d-8699a2fbd591",
   "metadata": {},
   "source": [
    "+ The distribution steadily decreases from its maximum at 0 to its minimum at 5 children."
   ]
  },
  {
   "cell_type": "markdown",
   "id": "b0443d7f",
   "metadata": {},
   "source": [
    "---\n",
    "### `BoxPlot`:"
   ]
  },
  {
   "cell_type": "markdown",
   "id": "025b0bdf-6c69-4271-82cf-35f86493c71c",
   "metadata": {},
   "source": [
    "Next, we will plot the boxplot of the numerical variables. This serves to visualize the locality, spread and skewness of the variables."
   ]
  },
  {
   "cell_type": "code",
   "execution_count": 9,
   "id": "4190f9ae",
   "metadata": {},
   "outputs": [
    {
     "data": {
      "image/png": "[encoded data removed]",
      "text/plain": [
       "<Figure size 432x288 with 4 Axes>"
      ]
     },
     "metadata": {
      "needs_background": "light"
     },
     "output_type": "display_data"
    }
   ],
   "source": [
    "ax = data.loc[:, [\"age\",\"charges\",\"bmi\",\"children\"]].plot.box(\n",
    "    subplots=True, layout=(2,2), sharex=False, sharey=False)"
   ]
  },
  {
   "cell_type": "markdown",
   "id": "851166b9-ca7a-4ff4-8139-04b25b626d4a",
   "metadata": {},
   "source": [
    "The boxplot shows the median, the first quartile, the third quartile and the outliers. To get the exact values, we will use those obtained with the describe function in the previuos section."
   ]
  },
  {
   "cell_type": "markdown",
   "id": "18651073",
   "metadata": {},
   "source": [
    "### AGE\n",
    "\n",
    "+ The median is 39.00, the first quartile is 27.00 and the third quartile is 51.00. \n",
    "+ As we saw in the histogram, the distribution looks quite even.\n",
    "+ There are no outliers."
   ]
  },
  {
   "cell_type": "markdown",
   "id": "2c1e694b",
   "metadata": {},
   "source": [
    "#### CHARGES"
   ]
  },
  {
   "cell_type": "markdown",
   "id": "84cbb9cb",
   "metadata": {},
   "source": [
    "### BMI\n",
    "+ The median is 30.4, the first quartile is 26.29, the second quartile is 30.40 and the third quartile is 34.69.\n",
    "+ Although, as we saw in the histogram, the variable follows a normal distribution, there are some outliers to the right."
   ]
  },
  {
   "cell_type": "markdown",
   "id": "ba897b2d",
   "metadata": {},
   "source": [
    "#### CHILDREN"
   ]
  },
  {
   "cell_type": "markdown",
   "id": "86b5db50-5516-4a2e-b2fc-09c8ff915a4c",
   "metadata": {},
   "source": [
    "+ The median is 1, the first quartile is 0 and the second quartile is 2.\n",
    "+ The distribution is strongly skewed to the right.\n",
    "+ There are no outliers."
   ]
  },
  {
   "cell_type": "markdown",
   "id": "47c9e5da-e715-4ac4-a258-5a2a6e928999",
   "metadata": {},
   "source": [
    "## Identification of outliers <a name=\"ci5\"></a>\n",
    "---"
   ]
  },
  {
   "cell_type": "markdown",
   "id": "46b8001a-bb41-4b45-b44b-a8a832396277",
   "metadata": {},
   "source": [
    "In this section we will identify the outliers for the variables that we found that had some in the box-plot section, that is, bmi and charges."
   ]
  },
  {
   "cell_type": "code",
   "execution_count": 30,
   "id": "36d908ae-6e64-44eb-ae23-416260ab089a",
   "metadata": {},
   "outputs": [],
   "source": [
    "# FUNCIÓN PARA OBTENER OUTLIERS\n",
    "def outliers (datos):\n",
    "    df_iqr = stats.iqr(datos)\n",
    "    print(f\"Interquartile range: {df_iqr}\")\n",
    "    # Para localizar el primer y tercer cuartil.\n",
    "    df_q1, df_q3 = np.quantile(datos, [0.25, 0.75])\n",
    " \n",
    "    # Limites de los valores atípicos\n",
    "    cut_low = df_q1 - 1.5 * df_iqr\n",
    "    cut_high = df_q3 + 1.5 * df_iqr\n",
    " \n",
    "    print(\"Lower and upper outlier limits:\", cut_low, \", \", cut_high)\n",
    " \n",
    "    # Obtenemos de nuestro dataset todos los valores atípicos segun los limites calculados\n",
    "    df_outliers = data.loc[(datos < cut_low) | (datos > cut_high)]\n",
    "\n",
    "    # Representación mediante boxpots (sección gráficos)\n",
    "\n",
    "    print('We have a total of', len(df_outliers), 'outliers')\n",
    "\n",
    "    return df_outliers"
   ]
  },
  {
   "cell_type": "markdown",
   "id": "b71dd2ec-2fef-42af-adf4-7f0ce098f34d",
   "metadata": {},
   "source": [
    "## BMI"
   ]
  },
  {
   "cell_type": "code",
   "execution_count": 24,
   "id": "ec6f30b9-b261-45ad-b090-102ff934ccc7",
   "metadata": {},
   "outputs": [
    {
     "name": "stdout",
     "output_type": "stream",
     "text": [
      "Interquartile range: 8.3975\n",
      "Lower and upper outlier limits: 13.7 ,  47.290000000000006\n",
      "We have a total of 9 outliers\n"
     ]
    },
    {
     "data": {
      "text/html": [
       "<div>\n",
       "<style scoped>\n",
       "    .dataframe tbody tr th:only-of-type {\n",
       "        vertical-align: middle;\n",
       "    }\n",
       "\n",
       "    .dataframe tbody tr th {\n",
       "        vertical-align: top;\n",
       "    }\n",
       "\n",
       "    .dataframe thead th {\n",
       "        text-align: right;\n",
       "    }\n",
       "</style>\n",
       "<table border=\"1\" class=\"dataframe\">\n",
       "  <thead>\n",
       "    <tr style=\"text-align: right;\">\n",
       "      <th></th>\n",
       "      <th>age</th>\n",
       "      <th>sex</th>\n",
       "      <th>bmi</th>\n",
       "      <th>children</th>\n",
       "      <th>smoker</th>\n",
       "      <th>region</th>\n",
       "      <th>charges</th>\n",
       "    </tr>\n",
       "  </thead>\n",
       "  <tbody>\n",
       "    <tr>\n",
       "      <th>116</th>\n",
       "      <td>58</td>\n",
       "      <td>male</td>\n",
       "      <td>49.06</td>\n",
       "      <td>0</td>\n",
       "      <td>no</td>\n",
       "      <td>southeast</td>\n",
       "      <td>11381.32540</td>\n",
       "    </tr>\n",
       "    <tr>\n",
       "      <th>286</th>\n",
       "      <td>46</td>\n",
       "      <td>female</td>\n",
       "      <td>48.07</td>\n",
       "      <td>2</td>\n",
       "      <td>no</td>\n",
       "      <td>northeast</td>\n",
       "      <td>9432.92530</td>\n",
       "    </tr>\n",
       "    <tr>\n",
       "      <th>401</th>\n",
       "      <td>47</td>\n",
       "      <td>male</td>\n",
       "      <td>47.52</td>\n",
       "      <td>1</td>\n",
       "      <td>no</td>\n",
       "      <td>southeast</td>\n",
       "      <td>8083.91980</td>\n",
       "    </tr>\n",
       "    <tr>\n",
       "      <th>543</th>\n",
       "      <td>54</td>\n",
       "      <td>female</td>\n",
       "      <td>47.41</td>\n",
       "      <td>0</td>\n",
       "      <td>yes</td>\n",
       "      <td>southeast</td>\n",
       "      <td>63770.42801</td>\n",
       "    </tr>\n",
       "    <tr>\n",
       "      <th>847</th>\n",
       "      <td>23</td>\n",
       "      <td>male</td>\n",
       "      <td>50.38</td>\n",
       "      <td>1</td>\n",
       "      <td>no</td>\n",
       "      <td>southeast</td>\n",
       "      <td>2438.05520</td>\n",
       "    </tr>\n",
       "    <tr>\n",
       "      <th>860</th>\n",
       "      <td>37</td>\n",
       "      <td>female</td>\n",
       "      <td>47.60</td>\n",
       "      <td>2</td>\n",
       "      <td>yes</td>\n",
       "      <td>southwest</td>\n",
       "      <td>46113.51100</td>\n",
       "    </tr>\n",
       "    <tr>\n",
       "      <th>1047</th>\n",
       "      <td>22</td>\n",
       "      <td>male</td>\n",
       "      <td>52.58</td>\n",
       "      <td>1</td>\n",
       "      <td>yes</td>\n",
       "      <td>southeast</td>\n",
       "      <td>44501.39820</td>\n",
       "    </tr>\n",
       "    <tr>\n",
       "      <th>1088</th>\n",
       "      <td>52</td>\n",
       "      <td>male</td>\n",
       "      <td>47.74</td>\n",
       "      <td>1</td>\n",
       "      <td>no</td>\n",
       "      <td>southeast</td>\n",
       "      <td>9748.91060</td>\n",
       "    </tr>\n",
       "    <tr>\n",
       "      <th>1317</th>\n",
       "      <td>18</td>\n",
       "      <td>male</td>\n",
       "      <td>53.13</td>\n",
       "      <td>0</td>\n",
       "      <td>no</td>\n",
       "      <td>southeast</td>\n",
       "      <td>1163.46270</td>\n",
       "    </tr>\n",
       "  </tbody>\n",
       "</table>\n",
       "</div>"
      ],
      "text/plain": [
       "      age     sex    bmi  children smoker     region      charges\n",
       "116    58    male  49.06         0     no  southeast  11381.32540\n",
       "286    46  female  48.07         2     no  northeast   9432.92530\n",
       "401    47    male  47.52         1     no  southeast   8083.91980\n",
       "543    54  female  47.41         0    yes  southeast  63770.42801\n",
       "847    23    male  50.38         1     no  southeast   2438.05520\n",
       "860    37  female  47.60         2    yes  southwest  46113.51100\n",
       "1047   22    male  52.58         1    yes  southeast  44501.39820\n",
       "1088   52    male  47.74         1     no  southeast   9748.91060\n",
       "1317   18    male  53.13         0     no  southeast   1163.46270"
      ]
     },
     "execution_count": 24,
     "metadata": {},
     "output_type": "execute_result"
    }
   ],
   "source": [
    "# Outliers\n",
    "bmi_outl = outliers(data.bmi)\n",
    "bmi_outl"
   ]
  },
  {
   "cell_type": "markdown",
   "id": "c58a732e-d43f-4bd1-b8b3-44267d20941d",
   "metadata": {},
   "source": [
    "+ There are 9 outliers in this variable, as we can see in the boxplot"
   ]
  },
  {
   "cell_type": "code",
   "execution_count": 25,
   "id": "a94e5e84-74e2-4849-bdbf-c6cb626c55e0",
   "metadata": {},
   "outputs": [
    {
     "data": {
      "image/png": "[encoded data removed]",
      "text/plain": [
       "<Figure size 432x576 with 1 Axes>"
      ]
     },
     "metadata": {
      "needs_background": "light"
     },
     "output_type": "display_data"
    }
   ],
   "source": [
    "getPlot = data.boxplot(column='bmi', figsize=(6, 8))"
   ]
  },
  {
   "cell_type": "code",
   "execution_count": 26,
   "id": "0402b4ba-23c0-423b-89d8-b1687d9c858f",
   "metadata": {},
   "outputs": [
    {
     "name": "stdout",
     "output_type": "stream",
     "text": [
      "Interquartile range: 2.0\n",
      "Lower and upper outlier limits: -3.0 ,  5.0\n",
      "We have a total of 0 outliers\n"
     ]
    },
    {
     "data": {
      "text/html": [
       "<div>\n",
       "<style scoped>\n",
       "    .dataframe tbody tr th:only-of-type {\n",
       "        vertical-align: middle;\n",
       "    }\n",
       "\n",
       "    .dataframe tbody tr th {\n",
       "        vertical-align: top;\n",
       "    }\n",
       "\n",
       "    .dataframe thead th {\n",
       "        text-align: right;\n",
       "    }\n",
       "</style>\n",
       "<table border=\"1\" class=\"dataframe\">\n",
       "  <thead>\n",
       "    <tr style=\"text-align: right;\">\n",
       "      <th></th>\n",
       "      <th>age</th>\n",
       "      <th>sex</th>\n",
       "      <th>bmi</th>\n",
       "      <th>children</th>\n",
       "      <th>smoker</th>\n",
       "      <th>region</th>\n",
       "      <th>charges</th>\n",
       "    </tr>\n",
       "  </thead>\n",
       "  <tbody>\n",
       "  </tbody>\n",
       "</table>\n",
       "</div>"
      ],
      "text/plain": [
       "Empty DataFrame\n",
       "Columns: [age, sex, bmi, children, smoker, region, charges]\n",
       "Index: []"
      ]
     },
     "execution_count": 26,
     "metadata": {},
     "output_type": "execute_result"
    }
   ],
   "source": [
    "# Outliers\n",
    "children_outl = outliers(data.children)\n",
    "children_outl"
   ]
  },
  {
   "cell_type": "markdown",
   "id": "12c0d082-ebd3-4385-aaa3-cd13a3a91cd9",
   "metadata": {},
   "source": [
    "## CHARGES"
   ]
  },
  {
   "cell_type": "code",
   "execution_count": 27,
   "id": "8bb5fe35-c3d7-4c68-8593-fa9ff54113d7",
   "metadata": {},
   "outputs": [
    {
     "name": "stdout",
     "output_type": "stream",
     "text": [
      "Interquartile range: 11899.625365\n",
      "Lower and upper outlier limits: -13109.1508975 ,  34489.350562499996\n",
      "We have a total of 139 outliers\n"
     ]
    },
    {
     "data": {
      "text/html": [
       "<div>\n",
       "<style scoped>\n",
       "    .dataframe tbody tr th:only-of-type {\n",
       "        vertical-align: middle;\n",
       "    }\n",
       "\n",
       "    .dataframe tbody tr th {\n",
       "        vertical-align: top;\n",
       "    }\n",
       "\n",
       "    .dataframe thead th {\n",
       "        text-align: right;\n",
       "    }\n",
       "</style>\n",
       "<table border=\"1\" class=\"dataframe\">\n",
       "  <thead>\n",
       "    <tr style=\"text-align: right;\">\n",
       "      <th></th>\n",
       "      <th>age</th>\n",
       "      <th>sex</th>\n",
       "      <th>bmi</th>\n",
       "      <th>children</th>\n",
       "      <th>smoker</th>\n",
       "      <th>region</th>\n",
       "      <th>charges</th>\n",
       "    </tr>\n",
       "  </thead>\n",
       "  <tbody>\n",
       "    <tr>\n",
       "      <th>14</th>\n",
       "      <td>27</td>\n",
       "      <td>male</td>\n",
       "      <td>42.130</td>\n",
       "      <td>0</td>\n",
       "      <td>yes</td>\n",
       "      <td>southeast</td>\n",
       "      <td>39611.75770</td>\n",
       "    </tr>\n",
       "    <tr>\n",
       "      <th>19</th>\n",
       "      <td>30</td>\n",
       "      <td>male</td>\n",
       "      <td>35.300</td>\n",
       "      <td>0</td>\n",
       "      <td>yes</td>\n",
       "      <td>southwest</td>\n",
       "      <td>36837.46700</td>\n",
       "    </tr>\n",
       "    <tr>\n",
       "      <th>23</th>\n",
       "      <td>34</td>\n",
       "      <td>female</td>\n",
       "      <td>31.920</td>\n",
       "      <td>1</td>\n",
       "      <td>yes</td>\n",
       "      <td>northeast</td>\n",
       "      <td>37701.87680</td>\n",
       "    </tr>\n",
       "    <tr>\n",
       "      <th>29</th>\n",
       "      <td>31</td>\n",
       "      <td>male</td>\n",
       "      <td>36.300</td>\n",
       "      <td>2</td>\n",
       "      <td>yes</td>\n",
       "      <td>southwest</td>\n",
       "      <td>38711.00000</td>\n",
       "    </tr>\n",
       "    <tr>\n",
       "      <th>30</th>\n",
       "      <td>22</td>\n",
       "      <td>male</td>\n",
       "      <td>35.600</td>\n",
       "      <td>0</td>\n",
       "      <td>yes</td>\n",
       "      <td>southwest</td>\n",
       "      <td>35585.57600</td>\n",
       "    </tr>\n",
       "    <tr>\n",
       "      <th>...</th>\n",
       "      <td>...</td>\n",
       "      <td>...</td>\n",
       "      <td>...</td>\n",
       "      <td>...</td>\n",
       "      <td>...</td>\n",
       "      <td>...</td>\n",
       "      <td>...</td>\n",
       "    </tr>\n",
       "    <tr>\n",
       "      <th>1300</th>\n",
       "      <td>45</td>\n",
       "      <td>male</td>\n",
       "      <td>30.360</td>\n",
       "      <td>0</td>\n",
       "      <td>yes</td>\n",
       "      <td>southeast</td>\n",
       "      <td>62592.87309</td>\n",
       "    </tr>\n",
       "    <tr>\n",
       "      <th>1301</th>\n",
       "      <td>62</td>\n",
       "      <td>male</td>\n",
       "      <td>30.875</td>\n",
       "      <td>3</td>\n",
       "      <td>yes</td>\n",
       "      <td>northwest</td>\n",
       "      <td>46718.16325</td>\n",
       "    </tr>\n",
       "    <tr>\n",
       "      <th>1303</th>\n",
       "      <td>43</td>\n",
       "      <td>male</td>\n",
       "      <td>27.800</td>\n",
       "      <td>0</td>\n",
       "      <td>yes</td>\n",
       "      <td>southwest</td>\n",
       "      <td>37829.72420</td>\n",
       "    </tr>\n",
       "    <tr>\n",
       "      <th>1313</th>\n",
       "      <td>19</td>\n",
       "      <td>female</td>\n",
       "      <td>34.700</td>\n",
       "      <td>2</td>\n",
       "      <td>yes</td>\n",
       "      <td>southwest</td>\n",
       "      <td>36397.57600</td>\n",
       "    </tr>\n",
       "    <tr>\n",
       "      <th>1323</th>\n",
       "      <td>42</td>\n",
       "      <td>female</td>\n",
       "      <td>40.370</td>\n",
       "      <td>2</td>\n",
       "      <td>yes</td>\n",
       "      <td>southeast</td>\n",
       "      <td>43896.37630</td>\n",
       "    </tr>\n",
       "  </tbody>\n",
       "</table>\n",
       "<p>139 rows × 7 columns</p>\n",
       "</div>"
      ],
      "text/plain": [
       "      age     sex     bmi  children smoker     region      charges\n",
       "14     27    male  42.130         0    yes  southeast  39611.75770\n",
       "19     30    male  35.300         0    yes  southwest  36837.46700\n",
       "23     34  female  31.920         1    yes  northeast  37701.87680\n",
       "29     31    male  36.300         2    yes  southwest  38711.00000\n",
       "30     22    male  35.600         0    yes  southwest  35585.57600\n",
       "...   ...     ...     ...       ...    ...        ...          ...\n",
       "1300   45    male  30.360         0    yes  southeast  62592.87309\n",
       "1301   62    male  30.875         3    yes  northwest  46718.16325\n",
       "1303   43    male  27.800         0    yes  southwest  37829.72420\n",
       "1313   19  female  34.700         2    yes  southwest  36397.57600\n",
       "1323   42  female  40.370         2    yes  southeast  43896.37630\n",
       "\n",
       "[139 rows x 7 columns]"
      ]
     },
     "execution_count": 27,
     "metadata": {},
     "output_type": "execute_result"
    }
   ],
   "source": [
    "# Outliers\n",
    "charges_outl = outliers(data.charges)\n",
    "charges_outl"
   ]
  },
  {
   "cell_type": "markdown",
   "id": "ca0e553f-b2af-4af7-9f71-8882702365ba",
   "metadata": {},
   "source": [
    "+ There are 139 outliers in this variable, as we can see in the boxplot"
   ]
  },
  {
   "cell_type": "code",
   "execution_count": 28,
   "id": "c9f093e2-c9f0-408b-8fc9-7c4565d8c1e6",
   "metadata": {},
   "outputs": [
    {
     "data": {
      "image/png": "[encoded data removed]",
      "text/plain": [
       "<Figure size 432x576 with 1 Axes>"
      ]
     },
     "metadata": {
      "needs_background": "light"
     },
     "output_type": "display_data"
    }
   ],
   "source": [
    "getPlot = data.boxplot(column='charges', figsize=(6, 8))"
   ]
  },
  {
   "cell_type": "markdown",
   "id": "663c725c",
   "metadata": {},
   "source": [
    "  \n",
    "### 1.2.2.- Plot of categorical variables  <a name=\"ci4\"></a>\n",
    "  ---\n",
    "  In this section we will represent the categorical variables found in the dataset using absolute and relative frequency tables and graphs. The categorical variables are: sex, region and smoker."
   ]
  },
  {
   "cell_type": "markdown",
   "id": "e9e98475",
   "metadata": {},
   "source": [
    "## Frecuency tables: \n",
    "---"
   ]
  },
  {
   "cell_type": "markdown",
   "id": "2725550d",
   "metadata": {},
   "source": [
    "### SEX"
   ]
  },
  {
   "cell_type": "code",
   "execution_count": 10,
   "id": "cebb8f9e",
   "metadata": {},
   "outputs": [
    {
     "data": {
      "text/plain": [
       "['female', 'male']\n",
       "Categories (2, object): ['female', 'male']"
      ]
     },
     "execution_count": 10,
     "metadata": {},
     "output_type": "execute_result"
    }
   ],
   "source": [
    "data['sex'].unique()"
   ]
  },
  {
   "cell_type": "markdown",
   "id": "0d56a8e7",
   "metadata": {},
   "source": [
    "The `sex` variable can take two values: 'female' and 'male'"
   ]
  },
  {
   "cell_type": "code",
   "execution_count": 11,
   "id": "02156bae",
   "metadata": {},
   "outputs": [
    {
     "data": {
      "text/plain": [
       "female    662\n",
       "male      676\n",
       "Name: sex, dtype: int64"
      ]
     },
     "execution_count": 11,
     "metadata": {},
     "output_type": "execute_result"
    }
   ],
   "source": [
    "AbsFreq_Sex = data['sex'].value_counts().sort_index()\n",
    "AbsFreq_Sex"
   ]
  },
  {
   "cell_type": "markdown",
   "id": "bd257faa",
   "metadata": {},
   "source": [
    "There are 662 `females` and 676 `males`."
   ]
  },
  {
   "cell_type": "code",
   "execution_count": 29,
   "id": "ebe460f3",
   "metadata": {},
   "outputs": [
    {
     "data": {
      "image/png": "[encoded data removed]",
      "text/plain": [
       "<Figure size 360x360 with 1 Axes>"
      ]
     },
     "metadata": {
      "needs_background": "light"
     },
     "output_type": "display_data"
    }
   ],
   "source": [
    "plot = AbsFreq_Sex.plot.bar(rot=0, xlabel='sex', ylabel ='Counts', figsize=(5,5))"
   ]
  },
  {
   "cell_type": "code",
   "execution_count": 13,
   "id": "7515d23d",
   "metadata": {},
   "outputs": [
    {
     "data": {
      "text/plain": [
       "female    0.494768\n",
       "male      0.505232\n",
       "Name: sex, dtype: float64"
      ]
     },
     "execution_count": 13,
     "metadata": {},
     "output_type": "execute_result"
    }
   ],
   "source": [
    "RelFreq_Sex = data['sex'].value_counts(normalize=True).sort_index()\n",
    "RelFreq_Sex"
   ]
  },
  {
   "cell_type": "markdown",
   "id": "3ca4bac4-eb42-4a53-8068-f65a440dd54a",
   "metadata": {},
   "source": [
    "As we can see in the absolute and relative frequecy tables and in the bar plot, the proportion of male and female insurance beneficiaries is almost identical."
   ]
  },
  {
   "cell_type": "markdown",
   "id": "aa0706a0",
   "metadata": {},
   "source": [
    "#### Probabilities\n",
    "---"
   ]
  },
  {
   "cell_type": "markdown",
   "id": "4e5b8850-c98b-40d1-98e2-cb49dae0bc03",
   "metadata": {},
   "source": [
    "To calculate the probabilities, we use the values obtained from the relative frequecy tables, since they are equivalent."
   ]
  },
  {
   "cell_type": "markdown",
   "id": "3d3f4917",
   "metadata": {},
   "source": [
    "+ The probability of being female is  49.47 %\n",
    "+ The probability of being male is  50.52 %\n",
    "+ The classes are balanced"
   ]
  },
  {
   "cell_type": "markdown",
   "id": "9eef46e2",
   "metadata": {},
   "source": [
    "---\n",
    "### SMOKER"
   ]
  },
  {
   "cell_type": "code",
   "execution_count": 14,
   "id": "dc6bdd81",
   "metadata": {},
   "outputs": [
    {
     "data": {
      "text/plain": [
       "['yes', 'no']\n",
       "Categories (2, object): ['yes', 'no']"
      ]
     },
     "execution_count": 14,
     "metadata": {},
     "output_type": "execute_result"
    }
   ],
   "source": [
    "data['smoker'].unique()"
   ]
  },
  {
   "cell_type": "markdown",
   "id": "3867a59f",
   "metadata": {},
   "source": [
    "The `smoker` variable can take two values: 'yes' and 'no'"
   ]
  },
  {
   "cell_type": "code",
   "execution_count": 15,
   "id": "76083fe7",
   "metadata": {},
   "outputs": [
    {
     "data": {
      "text/plain": [
       "no     1064\n",
       "yes     274\n",
       "Name: smoker, dtype: int64"
      ]
     },
     "execution_count": 15,
     "metadata": {},
     "output_type": "execute_result"
    }
   ],
   "source": [
    "AbsFreq_Smoker = data['smoker'].value_counts().sort_index()\n",
    "AbsFreq_Smoker"
   ]
  },
  {
   "cell_type": "markdown",
   "id": "9e666683",
   "metadata": {},
   "source": [
    "There are 1064 `non-smokers` and 274 `smokers`."
   ]
  },
  {
   "cell_type": "code",
   "execution_count": 16,
   "id": "aa890c4d",
   "metadata": {},
   "outputs": [
    {
     "data": {
      "image/png": "[encoded data removed]",
      "text/plain": [
       "<Figure size 432x288 with 1 Axes>"
      ]
     },
     "metadata": {
      "needs_background": "light"
     },
     "output_type": "display_data"
    }
   ],
   "source": [
    "plot = AbsFreq_Smoker.plot.bar(rot=0, xlabel='smoker', ylabel ='Counts')"
   ]
  },
  {
   "cell_type": "code",
   "execution_count": 17,
   "id": "6f9ec15f",
   "metadata": {},
   "outputs": [
    {
     "data": {
      "text/plain": [
       "no     0.795217\n",
       "yes    0.204783\n",
       "Name: smoker, dtype: float64"
      ]
     },
     "execution_count": 17,
     "metadata": {},
     "output_type": "execute_result"
    }
   ],
   "source": [
    "RelFreq_Smoke = data['smoker'].value_counts(normalize=True).sort_index()\n",
    "RelFreq_Smoke"
   ]
  },
  {
   "cell_type": "markdown",
   "id": "a0583d7a",
   "metadata": {},
   "source": [
    "As we can see in the graph and in the frequency tables, most insurance beneficiaries are non-smokers. In particular, 79.52% are non-smokers, leaving only 20.4% of smokers."
   ]
  },
  {
   "cell_type": "markdown",
   "id": "8d9514b7",
   "metadata": {},
   "source": [
    "#### Probabilities\n",
    "---"
   ]
  },
  {
   "cell_type": "markdown",
   "id": "f43e87ef",
   "metadata": {},
   "source": [
    "+ The probability of being 'non-smoker' is  79.52 %\n",
    "+ The probability of being 'smoker' is  20.48 %\n"
   ]
  },
  {
   "cell_type": "markdown",
   "id": "f8984f4c",
   "metadata": {},
   "source": [
    "---\n",
    "### REGION"
   ]
  },
  {
   "cell_type": "code",
   "execution_count": 18,
   "id": "854a586d",
   "metadata": {},
   "outputs": [
    {
     "data": {
      "text/plain": [
       "['southwest', 'southeast', 'northwest', 'northeast']\n",
       "Categories (4, object): ['southwest', 'southeast', 'northwest', 'northeast']"
      ]
     },
     "execution_count": 18,
     "metadata": {},
     "output_type": "execute_result"
    }
   ],
   "source": [
    "data['region'].unique()"
   ]
  },
  {
   "cell_type": "markdown",
   "id": "46bda8ea",
   "metadata": {},
   "source": [
    "The `region` variable can take four values: **southwest**, **southeast**, **northwest** and **northeast**"
   ]
  },
  {
   "cell_type": "code",
   "execution_count": 19,
   "id": "dd4b3d0b",
   "metadata": {},
   "outputs": [
    {
     "data": {
      "text/plain": [
       "northeast    324\n",
       "northwest    325\n",
       "southeast    364\n",
       "southwest    325\n",
       "Name: region, dtype: int64"
      ]
     },
     "execution_count": 19,
     "metadata": {},
     "output_type": "execute_result"
    }
   ],
   "source": [
    "AbsFreq_Region = data['region'].value_counts().sort_index()\n",
    "AbsFreq_Region"
   ]
  },
  {
   "cell_type": "markdown",
   "id": "69a62ccd",
   "metadata": {},
   "source": [
    "#### Absolute Frequency\n",
    "---"
   ]
  },
  {
   "cell_type": "markdown",
   "id": "3d19cf8b",
   "metadata": {},
   "source": [
    "+ There are 324 of `northeast` \n",
    "+ There are 325 of `northwest` \n",
    "+ There are 364 of `southeast` \n",
    "+ There are 325 of `southwest` "
   ]
  },
  {
   "cell_type": "code",
   "execution_count": 20,
   "id": "780e7601",
   "metadata": {},
   "outputs": [
    {
     "data": {
      "image/png": "[encoded data removed]",
      "text/plain": [
       "<Figure size 432x288 with 1 Axes>"
      ]
     },
     "metadata": {
      "needs_background": "light"
     },
     "output_type": "display_data"
    }
   ],
   "source": [
    "plot = AbsFreq_Region.plot.bar(rot=0, xlabel='region', ylabel ='Counts')"
   ]
  },
  {
   "cell_type": "code",
   "execution_count": 21,
   "id": "5d42f770",
   "metadata": {},
   "outputs": [
    {
     "data": {
      "text/plain": [
       "northeast    0.242152\n",
       "northwest    0.242900\n",
       "southeast    0.272048\n",
       "southwest    0.242900\n",
       "Name: region, dtype: float64"
      ]
     },
     "execution_count": 21,
     "metadata": {},
     "output_type": "execute_result"
    }
   ],
   "source": [
    "RelFreq_Region = data['region'].value_counts(normalize=True).sort_index()\n",
    "RelFreq_Region"
   ]
  },
  {
   "cell_type": "markdown",
   "id": "46a9c205-35f5-43eb-8a2a-c37d6e5222d5",
   "metadata": {},
   "source": [
    "The samples are evenly distributed accorss the US regions, except for a slight over-representation of southeast inhabitants."
   ]
  },
  {
   "cell_type": "markdown",
   "id": "f0e0c1d8",
   "metadata": {},
   "source": [
    "#### Probabilities\n",
    "---"
   ]
  },
  {
   "cell_type": "markdown",
   "id": "811d745f",
   "metadata": {},
   "source": [
    "+ The probability of live in 'northeast' is  24.21 %\n",
    "+ The probability of live in 'northwest' is  24.29 %\n",
    "+ The probability of live in 'southeast' is  27.20 %\n",
    "+ The probability of live in 'southwest' is  24.29 %"
   ]
  },
  {
   "cell_type": "markdown",
   "id": "cf16e669",
   "metadata": {},
   "source": [
    "## Bibliography"
   ]
  },
  {
   "cell_type": "markdown",
   "id": "7ba9e410-d173-40d4-b74e-6721e3ea0d8a",
   "metadata": {},
   "source": [
    "[1] Worldbank.org. (2019). Life expectancy at birth, total (years) - United States | Data. [online] Available at: https://data.worldbank.org/indicator/SP.DYN.LE00.IN?locations=US [Accessed 11 Nov. 2022].\n",
    "\n",
    "[2] CDC (2022). Assessing Your Weight. [online] Centers for Disease Control and Prevention. Available at: https://www.cdc.gov/healthyweight/assessing/index.html#:~:text=If%20your%20BMI%20is%20less,falls%20within%20the%20obese%20range. [Accessed 11 Nov. 2022].\n",
    "\n",
    "[3] Statista. (2021). Average children per family U.S. 2021 | Statista. [online] Available at: https://www.statista.com/statistics/718084/average-number-of-own-children-per-family/ [Accessed 11 Nov. 2022].\n",
    "\n",
    "[4] Bls.gov. (2021). CONSUMER EXPENDITURES--2021 - 2021 A01 Results. [online] Available at: https://www.bls.gov/news.release/cesan.nr0.htm [Accessed 11 Nov. 2022]."
   ]
  }
 ],
 "metadata": {
  "kernelspec": {
   "display_name": "Python 3",
   "language": "python",
   "name": "python3"
  },
  "language_info": {
   "codemirror_mode": {
    "name": "ipython",
    "version": 3
   },
   "file_extension": ".py",
   "mimetype": "text/x-python",
   "name": "python",
   "nbconvert_exporter": "python",
   "pygments_lexer": "ipython3",
   "version": "3.8.8"
  },
  "toc-showtags": false,
  "vscode": {
   "interpreter": {
    "hash": "1fd52278a64e04702a07d5e2e55ea93d7e9bac1fc9fbdb41036f850a5cfb616d"
   }
  }
 },
 "nbformat": 4,
 "nbformat_minor": 5
}
