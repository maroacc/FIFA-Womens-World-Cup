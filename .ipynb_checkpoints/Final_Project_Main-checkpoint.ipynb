{
 "cells": [
  {
   "cell_type": "markdown",
   "id": "af0b2075-6fa9-46c9-a264-7b7003ed1372",
   "metadata": {
    "id": "93NdAhnsnalv"
   },
   "source": [
    "<img src='fig/vertical_COMILLAS_COLOR.jpg' style= 'width:70mm'>\n",
    "\n",
    "<h1 style='font-family: Optima;color:#ecac00'>\n",
    "Medical Cost Personal Dataset\n",
    "<a class=\"tocSkip\">\n",
    "</h1>\n",
    "  \n",
    "</h1>  "
   ]
  },
  {
   "cell_type": "markdown",
   "id": "9dbff280-5437-4898-a464-18597c9f0af7",
   "metadata": {},
   "source": [
    "Marta Simón, María José Medina, Ana Rotella, Ana Miguélez, Johannes Orssich and Charles Girard"
   ]
  },
  {
   "cell_type": "markdown",
   "id": "7f6ba2f4-fd07-49f6-bc9a-8c9c974ec9f6",
   "metadata": {},
   "source": [
    "## Index"
   ]
  },
  {
   "cell_type": "markdown",
   "id": "98cd3452-db2f-4507-934a-ce92ffca7350",
   "metadata": {},
   "source": [
    "The project will be divided in the following sections:"
   ]
  },
  {
   "cell_type": "markdown",
   "id": "9d1bbdce-f66c-4aab-a7a2-0df04e7e3710",
   "metadata": {},
   "source": [
    "### 0. Introduction\n",
    "Found in Final_project_Main.ipynb\n",
    "#### 0.1 Explanation of the dataset\n",
    "- Context e.g what is the dataset about, why is studying this dataset important\n",
    "- Description of the variables\n",
    "#### 0.2 Project Scope\n",
    "- Summary of what we are going to do in the project\n",
    "\n",
    "### 1. Exploratory Analysis\n",
    "Found in Exploratory_Analysis.ipynb\n",
    "#### 1.1 Description of the dataset\n",
    "- Variable types e.g qualitative, discrete, continuous (df.info() + insights)\n",
    "- Variable description (df.describe())\n",
    "\n",
    "#### 1.2 Variable representation\n",
    "- Plots of continuous and discrete variables (histograms, bar plots, density curves, box plots,  scatter plots etc)\n",
    "- Identification of outliers\n",
    "\n",
    "### 2. Statistical Inference & Hypothesis Testing\n",
    "Found in Statistical_Inference_Hypothesis_Testing.ipynb\n",
    "- Choose a couple of hypothesis to test based on the exploratory analysis\n",
    "- 1 confidence interval\n",
    "- 1 power\n",
    "- 1 hypothesis test for the mean\n",
    "- 1 hypothesis test for the variance\n",
    "- 1 ANOVA\n",
    "\n",
    "### 3. Modeling\n",
    "Found in Modelling.ipynb\n",
    "- Correlation Analysis of all variables + pairplot()\n",
    "- 1 linear regression model (Insurance Forecast)\n",
    "  - error, p-values and confidence intervales for bo and b1\n",
    "  - confidence bands\n",
    "  - prediction band\n",
    "- Diagnostic plots (to check that a regression can be performed)\n",
    "  - Residual vs fitted plot\n",
    "  - Residual QQ-plot\n",
    "  - Scale-location plot\n",
    "  - Residual vs leverage plot\n",
    "- 1 linear regression with 3 parameters (beta0, beta1, beta2)\n",
    "- 1 linear regression with more than one variable ([BMI, age] --> Charges)\n",
    "\n"
   ]
  },
  {
   "cell_type": "markdown",
   "id": "cf02533e-4495-47ae-b0ad-169b35893a65",
   "metadata": {},
   "source": [
    "## Introduction\n",
    "This project consists on the analysis of the Medical Cost Personal Dataset, which can be found at https://www.kaggle.com/datasets/mirichoi0218/insurance and which includes the personal data of people who have a health insurance in the US.\n",
    "\n",
    "The reason for choosing this dataset is an interest in investigating the parameters that insurance companies are choosing to calculate their client's insurance price and whether this choice is justified by an increase in medical cost bills. In particular, we are interested in knowing whether insurance companies are charging more to smokers and to people with higher BMIs.\n",
    "\n",
    "The variables of the dataset are:\n",
    "\n",
    "\n",
    "### Columns\n",
    "\n",
    "- **age**: age of the insurace's primary beneficiary\n",
    "- **sex**: insurace's primary beneficiary gender (female or male)\n",
    "- **bmi**: body mass index, defined as the body mass divided by the square of the body height, and expressed in units of kg/m2.\n",
    "- **children**: number of children covered by health insurance / Number of dependents\n",
    "- **smoker**: whether the primary beneficiary is a current smoker or not\n",
    "- **region**: the primary beneficiary's residential area in the US, northeast, southeast, southwest, northwest.\n",
    "- **charges**: individual medical costs billed by health insurance\n"
   ]
  },
  {
   "cell_type": "code",
   "execution_count": null,
   "id": "2296808b-3385-4304-90db-46046fd7b1a2",
   "metadata": {},
   "outputs": [],
   "source": []
  }
 ],
 "metadata": {
  "kernelspec": {
   "display_name": "Python 3",
   "language": "python",
   "name": "python3"
  },
  "language_info": {
   "codemirror_mode": {
    "name": "ipython",
    "version": 3
   },
   "file_extension": ".py",
   "mimetype": "text/x-python",
   "name": "python",
   "nbconvert_exporter": "python",
   "pygments_lexer": "ipython3",
   "version": "3.8.8"
  },
  "vscode": {
   "interpreter": {
    "hash": "31f2aee4e71d21fbe5cf8b01ff0e069b9275f58929596ceb00d14d90e3e16cd6"
   }
  }
 },
 "nbformat": 4,
 "nbformat_minor": 5
}
