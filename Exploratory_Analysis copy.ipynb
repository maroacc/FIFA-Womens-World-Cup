{
 "cells": [
  {
   "cell_type": "markdown",
   "id": "4b00c878",
   "metadata": {},
   "source": [
    "# 1. EXPLORATORY ANALYSIS\n",
    "---"
   ]
  },
  {
   "cell_type": "code",
   "execution_count": 19,
   "id": "02a54703",
   "metadata": {},
   "outputs": [],
   "source": [
    "# Imports\n",
    "import numpy as np\n",
    "import pandas as pd\n",
    "import matplotlib.pyplot as plt\n",
    "import seaborn as sns\n",
    "import scipy as scp\n",
    "from scipy import stats\n",
    "from pylab import *\n",
    "import warnings\n",
    "warnings.filterwarnings('ignore')"
   ]
  },
  {
   "cell_type": "markdown",
   "id": "1b80aa6c",
   "metadata": {},
   "source": [
    "---\n",
    "# Table of contents\n",
    "1. [Description of the dataset](#intro)\n",
    "    1. [ Variable types](#intro2)\n",
    "    2. [ Variable description ](#intro3)\n",
    "2. [Variable representation](#ci)\n",
    "    1. [Plots of continuous variables](#ci3)\n",
    "    2. [Plots of discrete variables](#ci4)\n",
    "    3. [Identification of outliers](#ci5)\n",
    "---"
   ]
  },
  {
   "cell_type": "markdown",
   "id": "86ac3958",
   "metadata": {},
   "source": [
    "We proceed to import the database, in which we have 7 variables\n",
    "+ **age**: shows the age of the person\n",
    "+ **gender**: if the person is male or female\n",
    "+ **bmi**: body mass index, it is the weight of a person in kilograms (or pounds) divided by the square of the height in meters (or feet)\n",
    "+ **children**: the number of children a person has\n",
    "+ **region**: the region you live in\n",
    "+ **charges**: the charges of the person"
   ]
  },
  {
   "cell_type": "code",
   "execution_count": 20,
   "id": "8a47bba0",
   "metadata": {},
   "outputs": [
    {
     "data": {
      "text/html": [
       "<div>\n",
       "<style scoped>\n",
       "    .dataframe tbody tr th:only-of-type {\n",
       "        vertical-align: middle;\n",
       "    }\n",
       "\n",
       "    .dataframe tbody tr th {\n",
       "        vertical-align: top;\n",
       "    }\n",
       "\n",
       "    .dataframe thead th {\n",
       "        text-align: right;\n",
       "    }\n",
       "</style>\n",
       "<table border=\"1\" class=\"dataframe\">\n",
       "  <thead>\n",
       "    <tr style=\"text-align: right;\">\n",
       "      <th></th>\n",
       "      <th>age</th>\n",
       "      <th>sex</th>\n",
       "      <th>bmi</th>\n",
       "      <th>children</th>\n",
       "      <th>smoker</th>\n",
       "      <th>region</th>\n",
       "      <th>charges</th>\n",
       "    </tr>\n",
       "  </thead>\n",
       "  <tbody>\n",
       "    <tr>\n",
       "      <th>0</th>\n",
       "      <td>19</td>\n",
       "      <td>female</td>\n",
       "      <td>27.900</td>\n",
       "      <td>0</td>\n",
       "      <td>yes</td>\n",
       "      <td>southwest</td>\n",
       "      <td>16884.92400</td>\n",
       "    </tr>\n",
       "    <tr>\n",
       "      <th>1</th>\n",
       "      <td>18</td>\n",
       "      <td>male</td>\n",
       "      <td>33.770</td>\n",
       "      <td>1</td>\n",
       "      <td>no</td>\n",
       "      <td>southeast</td>\n",
       "      <td>1725.55230</td>\n",
       "    </tr>\n",
       "    <tr>\n",
       "      <th>2</th>\n",
       "      <td>28</td>\n",
       "      <td>male</td>\n",
       "      <td>33.000</td>\n",
       "      <td>3</td>\n",
       "      <td>no</td>\n",
       "      <td>southeast</td>\n",
       "      <td>4449.46200</td>\n",
       "    </tr>\n",
       "    <tr>\n",
       "      <th>3</th>\n",
       "      <td>33</td>\n",
       "      <td>male</td>\n",
       "      <td>22.705</td>\n",
       "      <td>0</td>\n",
       "      <td>no</td>\n",
       "      <td>northwest</td>\n",
       "      <td>21984.47061</td>\n",
       "    </tr>\n",
       "    <tr>\n",
       "      <th>4</th>\n",
       "      <td>32</td>\n",
       "      <td>male</td>\n",
       "      <td>28.880</td>\n",
       "      <td>0</td>\n",
       "      <td>no</td>\n",
       "      <td>northwest</td>\n",
       "      <td>3866.85520</td>\n",
       "    </tr>\n",
       "    <tr>\n",
       "      <th>...</th>\n",
       "      <td>...</td>\n",
       "      <td>...</td>\n",
       "      <td>...</td>\n",
       "      <td>...</td>\n",
       "      <td>...</td>\n",
       "      <td>...</td>\n",
       "      <td>...</td>\n",
       "    </tr>\n",
       "    <tr>\n",
       "      <th>1333</th>\n",
       "      <td>50</td>\n",
       "      <td>male</td>\n",
       "      <td>30.970</td>\n",
       "      <td>3</td>\n",
       "      <td>no</td>\n",
       "      <td>northwest</td>\n",
       "      <td>10600.54830</td>\n",
       "    </tr>\n",
       "    <tr>\n",
       "      <th>1334</th>\n",
       "      <td>18</td>\n",
       "      <td>female</td>\n",
       "      <td>31.920</td>\n",
       "      <td>0</td>\n",
       "      <td>no</td>\n",
       "      <td>northeast</td>\n",
       "      <td>2205.98080</td>\n",
       "    </tr>\n",
       "    <tr>\n",
       "      <th>1335</th>\n",
       "      <td>18</td>\n",
       "      <td>female</td>\n",
       "      <td>36.850</td>\n",
       "      <td>0</td>\n",
       "      <td>no</td>\n",
       "      <td>southeast</td>\n",
       "      <td>1629.83350</td>\n",
       "    </tr>\n",
       "    <tr>\n",
       "      <th>1336</th>\n",
       "      <td>21</td>\n",
       "      <td>female</td>\n",
       "      <td>25.800</td>\n",
       "      <td>0</td>\n",
       "      <td>no</td>\n",
       "      <td>southwest</td>\n",
       "      <td>2007.94500</td>\n",
       "    </tr>\n",
       "    <tr>\n",
       "      <th>1337</th>\n",
       "      <td>61</td>\n",
       "      <td>female</td>\n",
       "      <td>29.070</td>\n",
       "      <td>0</td>\n",
       "      <td>yes</td>\n",
       "      <td>northwest</td>\n",
       "      <td>29141.36030</td>\n",
       "    </tr>\n",
       "  </tbody>\n",
       "</table>\n",
       "<p>1338 rows × 7 columns</p>\n",
       "</div>"
      ],
      "text/plain": [
       "      age     sex     bmi  children smoker     region      charges\n",
       "0      19  female  27.900         0    yes  southwest  16884.92400\n",
       "1      18    male  33.770         1     no  southeast   1725.55230\n",
       "2      28    male  33.000         3     no  southeast   4449.46200\n",
       "3      33    male  22.705         0     no  northwest  21984.47061\n",
       "4      32    male  28.880         0     no  northwest   3866.85520\n",
       "...   ...     ...     ...       ...    ...        ...          ...\n",
       "1333   50    male  30.970         3     no  northwest  10600.54830\n",
       "1334   18  female  31.920         0     no  northeast   2205.98080\n",
       "1335   18  female  36.850         0     no  southeast   1629.83350\n",
       "1336   21  female  25.800         0     no  southwest   2007.94500\n",
       "1337   61  female  29.070         0    yes  northwest  29141.36030\n",
       "\n",
       "[1338 rows x 7 columns]"
      ]
     },
     "execution_count": 20,
     "metadata": {},
     "output_type": "execute_result"
    }
   ],
   "source": [
    "data = pd.read_csv('data/insurance.csv', sep=\",\", header=0)\n",
    "data"
   ]
  },
  {
   "cell_type": "markdown",
   "id": "2f92035a",
   "metadata": {},
   "source": [
    "## 1.1 Description of the dataset <a name=\"intro\"></a>\n",
    "---\n",
    "\n",
    "Next we will explain what types of variables we have. First of all, if they are int64, object, or float. Secondly, if they are qualitative, discrete, continuous... And finally we will analyze the numerical variables with .describe()."
   ]
  },
  {
   "cell_type": "code",
   "execution_count": 21,
   "id": "0a5df1c0",
   "metadata": {},
   "outputs": [
    {
     "name": "stdout",
     "output_type": "stream",
     "text": [
      "<class 'pandas.core.frame.DataFrame'>\n",
      "RangeIndex: 1338 entries, 0 to 1337\n",
      "Data columns (total 7 columns):\n",
      " #   Column    Non-Null Count  Dtype  \n",
      "---  ------    --------------  -----  \n",
      " 0   age       1338 non-null   int64  \n",
      " 1   sex       1338 non-null   object \n",
      " 2   bmi       1338 non-null   float64\n",
      " 3   children  1338 non-null   int64  \n",
      " 4   smoker    1338 non-null   object \n",
      " 5   region    1338 non-null   object \n",
      " 6   charges   1338 non-null   float64\n",
      "dtypes: float64(2), int64(2), object(3)\n",
      "memory usage: 73.3+ KB\n"
     ]
    }
   ],
   "source": [
    "data.info()"
   ]
  },
  {
   "cell_type": "markdown",
   "id": "d9603b19",
   "metadata": {},
   "source": [
    "In our data frame we have 7 variables:\n",
    "+ 2 'int64': age, children\n",
    "+ 3 'object': sex, smoker, region\n",
    "+ 2 'float64': loads, bmi\n",
    "\n",
    "\n",
    "'int64' we mean numeric characters, and the 64 refers to the memory used to store the character.\n",
    "\n",
    "'object' we mean a kind of tag or alias to refer to the object.\n",
    "We transform variables of type 'object' to categorical in the next step.\n",
    "\n",
    "\n",
    "'floats' we mean variables with real positive or negative numbers, that is, with decimals."
   ]
  },
  {
   "cell_type": "markdown",
   "id": "944a9a71",
   "metadata": {},
   "source": [
    "### Variable types <a name=\"intro2\"></a>\n",
    "---\n",
    "Regarding the types of variables we have:\n",
    "+ Age: discrete quantitative\n",
    "+ Sex: dichotomous qualitative\n",
    "+ Bmi: continuous quantitative\n",
    "+ Children: discrete quantitative\n",
    "+ Smoker: dichotomous qualitative\n",
    "+ Region: qualitative categorical\n",
    "+ Charges: continuous quantitative"
   ]
  },
  {
   "cell_type": "code",
   "execution_count": 22,
   "id": "0e51dac7",
   "metadata": {},
   "outputs": [
    {
     "name": "stdout",
     "output_type": "stream",
     "text": [
      "<class 'pandas.core.frame.DataFrame'>\n",
      "RangeIndex: 1338 entries, 0 to 1337\n",
      "Data columns (total 7 columns):\n",
      " #   Column    Non-Null Count  Dtype   \n",
      "---  ------    --------------  -----   \n",
      " 0   age       1338 non-null   int64   \n",
      " 1   sex       1338 non-null   category\n",
      " 2   bmi       1338 non-null   float64 \n",
      " 3   children  1338 non-null   int64   \n",
      " 4   smoker    1338 non-null   category\n",
      " 5   region    1338 non-null   category\n",
      " 6   charges   1338 non-null   float64 \n",
      "dtypes: category(3), float64(2), int64(2)\n",
      "memory usage: 46.3 KB\n"
     ]
    }
   ],
   "source": [
    "data_objects = data.columns[data.dtypes == 'object'] #Saco todos los nombres de las columnas\n",
    "data[data_objects] = data[data_objects].astype('category')\n",
    "data.info()"
   ]
  },
  {
   "cell_type": "markdown",
   "id": "734edf8b",
   "metadata": {},
   "source": [
    "### Variable description <a name=\"intro3\"></a>\n",
    "---"
   ]
  },
  {
   "cell_type": "code",
   "execution_count": 23,
   "id": "868b3db7",
   "metadata": {},
   "outputs": [
    {
     "data": {
      "text/html": [
       "<div>\n",
       "<style scoped>\n",
       "    .dataframe tbody tr th:only-of-type {\n",
       "        vertical-align: middle;\n",
       "    }\n",
       "\n",
       "    .dataframe tbody tr th {\n",
       "        vertical-align: top;\n",
       "    }\n",
       "\n",
       "    .dataframe thead th {\n",
       "        text-align: right;\n",
       "    }\n",
       "</style>\n",
       "<table border=\"1\" class=\"dataframe\">\n",
       "  <thead>\n",
       "    <tr style=\"text-align: right;\">\n",
       "      <th></th>\n",
       "      <th>age</th>\n",
       "      <th>bmi</th>\n",
       "      <th>children</th>\n",
       "      <th>charges</th>\n",
       "    </tr>\n",
       "  </thead>\n",
       "  <tbody>\n",
       "    <tr>\n",
       "      <th>count</th>\n",
       "      <td>1338.000000</td>\n",
       "      <td>1338.000000</td>\n",
       "      <td>1338.000000</td>\n",
       "      <td>1338.000000</td>\n",
       "    </tr>\n",
       "    <tr>\n",
       "      <th>mean</th>\n",
       "      <td>39.207025</td>\n",
       "      <td>30.663397</td>\n",
       "      <td>1.094918</td>\n",
       "      <td>13270.422265</td>\n",
       "    </tr>\n",
       "    <tr>\n",
       "      <th>std</th>\n",
       "      <td>14.049960</td>\n",
       "      <td>6.098187</td>\n",
       "      <td>1.205493</td>\n",
       "      <td>12110.011237</td>\n",
       "    </tr>\n",
       "    <tr>\n",
       "      <th>min</th>\n",
       "      <td>18.000000</td>\n",
       "      <td>15.960000</td>\n",
       "      <td>0.000000</td>\n",
       "      <td>1121.873900</td>\n",
       "    </tr>\n",
       "    <tr>\n",
       "      <th>25%</th>\n",
       "      <td>27.000000</td>\n",
       "      <td>26.296250</td>\n",
       "      <td>0.000000</td>\n",
       "      <td>4740.287150</td>\n",
       "    </tr>\n",
       "    <tr>\n",
       "      <th>50%</th>\n",
       "      <td>39.000000</td>\n",
       "      <td>30.400000</td>\n",
       "      <td>1.000000</td>\n",
       "      <td>9382.033000</td>\n",
       "    </tr>\n",
       "    <tr>\n",
       "      <th>75%</th>\n",
       "      <td>51.000000</td>\n",
       "      <td>34.693750</td>\n",
       "      <td>2.000000</td>\n",
       "      <td>16639.912515</td>\n",
       "    </tr>\n",
       "    <tr>\n",
       "      <th>max</th>\n",
       "      <td>64.000000</td>\n",
       "      <td>53.130000</td>\n",
       "      <td>5.000000</td>\n",
       "      <td>63770.428010</td>\n",
       "    </tr>\n",
       "  </tbody>\n",
       "</table>\n",
       "</div>"
      ],
      "text/plain": [
       "               age          bmi     children       charges\n",
       "count  1338.000000  1338.000000  1338.000000   1338.000000\n",
       "mean     39.207025    30.663397     1.094918  13270.422265\n",
       "std      14.049960     6.098187     1.205493  12110.011237\n",
       "min      18.000000    15.960000     0.000000   1121.873900\n",
       "25%      27.000000    26.296250     0.000000   4740.287150\n",
       "50%      39.000000    30.400000     1.000000   9382.033000\n",
       "75%      51.000000    34.693750     2.000000  16639.912515\n",
       "max      64.000000    53.130000     5.000000  63770.428010"
      ]
     },
     "execution_count": 23,
     "metadata": {},
     "output_type": "execute_result"
    }
   ],
   "source": [
    "data.describe()"
   ]
  },
  {
   "cell_type": "markdown",
   "id": "7d8fab4b",
   "metadata": {},
   "source": [
    "First of all we can see that we have the same number of observations for all variables (1338), which means that there are no missing values\n",
    "\n",
    "Regarding the variable **age**, we have a minimum age of 18, and a maximum age of 64, so we are dealing with people who are of legal age. The average is 39 years.\n",
    "\n",
    "In second place we have the variable **bmi** which has a minimum of 15.96 and a maximum of 53.13. Bearing in mind that a person with a bmi of 18.5 to 24.9 is within a normal or healthy weight range, and the average is 30, we are talking about a group of people who are mostly in overweight.\n",
    "\n",
    "Thirdly, we have the variable **children** that has a minimum of 0 and a maximum of 5, which is quite normal, whether it is having from 0 to 5 children.\n",
    "\n",
    "In fourth and last place we have the **charges** variable whose minimum is 1121.87 and maximum is 63770.42, with an average of 13270.42. They are quite normal values."
   ]
  },
  {
   "cell_type": "markdown",
   "id": "026576aa",
   "metadata": {},
   "source": [
    "### Missing data\n",
    "---\n",
    "\n",
    "We do not have any missing value in any of the variables, something normal considering that in the previous point we have seen that the maximum and minimum values were not far from the rest of the values of the sample.\n",
    "\n",
    "Having no missing values, it is not necessary to treat them, therefore we proceed to the next point."
   ]
  },
  {
   "cell_type": "code",
   "execution_count": 24,
   "id": "9435ac67",
   "metadata": {},
   "outputs": [
    {
     "name": "stdout",
     "output_type": "stream",
     "text": [
      "Are there values NaN?:\n",
      " False\n",
      "Attributes values NaN :\n",
      " age         0\n",
      "sex         0\n",
      "bmi         0\n",
      "children    0\n",
      "smoker      0\n",
      "region      0\n",
      "charges     0\n",
      "dtype: int64\n",
      "Total number of NaN:\n",
      " 0\n"
     ]
    }
   ],
   "source": [
    "print(\"Are there values NaN?:\\n\",data.isnull().values.any())\n",
    "print(\"Attributes values NaN :\\n\",data.isnull().sum())\n",
    "print(\"Total number of NaN:\\n\",data.isnull().sum().sum())"
   ]
  },
  {
   "cell_type": "markdown",
   "id": "9625ccfd",
   "metadata": {},
   "source": [
    "## 1.2 VARIABLE REPRESENTATION <a name=\"ci\"></a>"
   ]
  },
  {
   "cell_type": "markdown",
   "id": "8965dfd9",
   "metadata": {},
   "source": [
    "### 1.2.1.- Plots of continuous variables <a name=\"ci3\"></a>\n",
    "\n",
    "+ There are 4 continuous variables, `AGE`, `CHARGES`, `BMI` and `CHILDREN`"
   ]
  },
  {
   "cell_type": "markdown",
   "id": "fc2b7ea8",
   "metadata": {},
   "source": [
    "### `Histogram`"
   ]
  },
  {
   "cell_type": "code",
   "execution_count": 25,
   "id": "060392f2",
   "metadata": {},
   "outputs": [
    {
     "data": {
      "image/png": "[encoded data removed]",
      "text/plain": [
       "<Figure size 800x800 with 4 Axes>"
      ]
     },
     "metadata": {},
     "output_type": "display_data"
    }
   ],
   "source": [
    "sns.set(rc={\"figure.figsize\": (8, 8)})\n",
    "subplot(2,2,1)\n",
    "ax = sns.histplot(data.age)\n",
    "subplot(2,2,2)\n",
    "ax = sns.distplot(data.bmi)\n",
    "subplot(2,2,3)\n",
    "ax = sns.distplot(data.charges)\n",
    "subplot(2,2,4)\n",
    "ax = sns.histplot(data.children)\n",
    "plt.show()\n"
   ]
  },
  {
   "cell_type": "markdown",
   "id": "9b888ad3",
   "metadata": {},
   "source": [
    "### AGE\n",
    "\n",
    "+ We can see that the most common age is around 20 years old, up to 60 years old.\n"
   ]
  },
  {
   "cell_type": "markdown",
   "id": "3398f650",
   "metadata": {},
   "source": [
    "### BMI\n",
    "+ It follows a normal distribution, it presents a symmetrical form.\n"
   ]
  },
  {
   "cell_type": "markdown",
   "id": "ba897b2d",
   "metadata": {},
   "source": [
    "### CHILDREN\n",
    "+ Most people do not have children, and then the most normal thing is to have a child.\n"
   ]
  },
  {
   "cell_type": "markdown",
   "id": "4bc4a1ca",
   "metadata": {},
   "source": [
    "### CHARGES\n",
    "+ We see that the combination between the density curve and the histogram is not symmetrical, it presents an asymmetry to the left."
   ]
  },
  {
   "cell_type": "markdown",
   "id": "b0443d7f",
   "metadata": {},
   "source": [
    "---\n",
    "### `BoxPlot`:"
   ]
  },
  {
   "cell_type": "code",
   "execution_count": 26,
   "id": "4190f9ae",
   "metadata": {},
   "outputs": [
    {
     "data": {
      "image/png": "[encoded data removed]",
      "text/plain": [
       "<Figure size 800x800 with 4 Axes>"
      ]
     },
     "metadata": {},
     "output_type": "display_data"
    }
   ],
   "source": [
    "ax = data.loc[:, [\"age\",\"charges\",\"bmi\",\"children\"]].plot.box(\n",
    "    subplots=True, layout=(2,2), sharex=False, sharey=False)"
   ]
  },
  {
   "cell_type": "markdown",
   "id": "9b888ad3",
   "metadata": {},
   "source": [
    "### AGE\n",
    "\n",
    "+ The mean is 39.20, the first quartile is 27.00, the second quartile is 39.99 and the third quartile is 51.00.\n",
    "\n",
    "+ There are any outliers in this variable"
   ]
  },
  {
   "cell_type": "markdown",
   "id": "3398f650",
   "metadata": {},
   "source": [
    "### BMI\n",
    "+ The **mean** is 30.66, the first quartile is 26.29, the **second quartile** is 30.40 and the **third quartile** is 34.69.\n",
    "\n",
    "+ There are upper outliers in this variable"
   ]
  },
  {
   "cell_type": "markdown",
   "id": "ba897b2d",
   "metadata": {},
   "source": [
    "### CHILDREN\n",
    "+ The mean is 0, the first quartile is 0.00, the second quartile is 1.00 and the third quartile is 2.00.\n",
    "\n",
    "+ There are any outliers in this variable"
   ]
  },
  {
   "cell_type": "markdown",
   "id": "4bc4a1ca",
   "metadata": {},
   "source": [
    "### CHARGES\n",
    "+ The **mean** is 13270.4222, the **first quartile** is 4740.2871, the **second quartile** is 9382.0330 and the **third quartile** is 16639.9125.\n",
    "\n",
    "+ There are upper outliers in this variable"
   ]
  },
  {
   "cell_type": "markdown",
   "id": "663c725c",
   "metadata": {},
   "source": [
    "  \n",
    "### 1.2.2.- Plot of discrete variables  <a name=\"ci4\"></a>\n",
    "  ---\n",
    "  - For factors :  \n",
    "    - Frecuency tables (absolute and relative).\n",
    "    - Grafics \n",
    "\n",
    "    \n"
   ]
  },
  {
   "cell_type": "markdown",
   "id": "f093791d",
   "metadata": {},
   "source": [
    "  - We have 3 discrete variables in this dataset: **sex**, **region** and **smoker**."
   ]
  },
  {
   "cell_type": "markdown",
   "id": "e9e98475",
   "metadata": {},
   "source": [
    "## Frecuency tables: \n",
    "---"
   ]
  },
  {
   "cell_type": "markdown",
   "id": "2725550d",
   "metadata": {},
   "source": [
    "### SEX\n",
    "+ Insurace's primary beneficiary gender (female or male)"
   ]
  },
  {
   "cell_type": "code",
   "execution_count": 27,
   "id": "cebb8f9e",
   "metadata": {},
   "outputs": [
    {
     "data": {
      "text/plain": [
       "['female', 'male']\n",
       "Categories (2, object): ['female', 'male']"
      ]
     },
     "execution_count": 27,
     "metadata": {},
     "output_type": "execute_result"
    }
   ],
   "source": [
    "data['sex'].unique()"
   ]
  },
  {
   "cell_type": "markdown",
   "id": "0d56a8e7",
   "metadata": {},
   "source": [
    "The `sex` variable can take two values: 'female' and 'male'"
   ]
  },
  {
   "cell_type": "code",
   "execution_count": 28,
   "id": "02156bae",
   "metadata": {},
   "outputs": [
    {
     "data": {
      "text/plain": [
       "female    662\n",
       "male      676\n",
       "Name: sex, dtype: int64"
      ]
     },
     "execution_count": 28,
     "metadata": {},
     "output_type": "execute_result"
    }
   ],
   "source": [
    "AbsFreq_Sex = data['sex'].value_counts().sort_index()\n",
    "AbsFreq_Sex"
   ]
  },
  {
   "cell_type": "markdown",
   "id": "bd257faa",
   "metadata": {},
   "source": [
    "There are 662 `female` and 676 `male`."
   ]
  },
  {
   "cell_type": "code",
   "execution_count": 29,
   "id": "ebe460f3",
   "metadata": {},
   "outputs": [
    {
     "data": {
      "image/png": "[encoded data removed]",
      "text/plain": [
       "<Figure size 800x800 with 1 Axes>"
      ]
     },
     "metadata": {},
     "output_type": "display_data"
    }
   ],
   "source": [
    "plot = AbsFreq_Sex.plot.bar(rot=0, xlabel='sex', ylabel ='Counts')"
   ]
  },
  {
   "cell_type": "code",
   "execution_count": 30,
   "id": "7515d23d",
   "metadata": {},
   "outputs": [
    {
     "data": {
      "text/plain": [
       "female    0.494768\n",
       "male      0.505232\n",
       "Name: sex, dtype: float64"
      ]
     },
     "execution_count": 30,
     "metadata": {},
     "output_type": "execute_result"
    }
   ],
   "source": [
    "RelFreq_Sex = data['sex'].value_counts(normalize=True).sort_index()\n",
    "RelFreq_Sex"
   ]
  },
  {
   "cell_type": "markdown",
   "id": "aa0706a0",
   "metadata": {},
   "source": [
    "#### Probabilities\n",
    "---"
   ]
  },
  {
   "cell_type": "markdown",
   "id": "3d3f4917",
   "metadata": {},
   "source": [
    "+ The probability of being female is  0.494768\n",
    "+ The probability of being male is  0.505232\n",
    "+ This classes are balanced"
   ]
  },
  {
   "cell_type": "markdown",
   "id": "9eef46e2",
   "metadata": {},
   "source": [
    "---\n",
    "### SMOKER\n",
    "+ Whether the primary beneficiary is a current smoker or not"
   ]
  },
  {
   "cell_type": "code",
   "execution_count": 31,
   "id": "dc6bdd81",
   "metadata": {},
   "outputs": [
    {
     "data": {
      "text/plain": [
       "['yes', 'no']\n",
       "Categories (2, object): ['no', 'yes']"
      ]
     },
     "execution_count": 31,
     "metadata": {},
     "output_type": "execute_result"
    }
   ],
   "source": [
    "data['smoker'].unique()"
   ]
  },
  {
   "cell_type": "markdown",
   "id": "3867a59f",
   "metadata": {},
   "source": [
    "The `smoker` variable can take two values: 'yes' and 'no'"
   ]
  },
  {
   "cell_type": "code",
   "execution_count": 32,
   "id": "76083fe7",
   "metadata": {},
   "outputs": [
    {
     "data": {
      "text/plain": [
       "no     1064\n",
       "yes     274\n",
       "Name: smoker, dtype: int64"
      ]
     },
     "execution_count": 32,
     "metadata": {},
     "output_type": "execute_result"
    }
   ],
   "source": [
    "AbsFreq_Smoker = data['smoker'].value_counts().sort_index()\n",
    "AbsFreq_Smoker"
   ]
  },
  {
   "cell_type": "markdown",
   "id": "9e666683",
   "metadata": {},
   "source": [
    "There are 1064 `no-smoker` and 274 `smoker`."
   ]
  },
  {
   "cell_type": "code",
   "execution_count": 33,
   "id": "aa890c4d",
   "metadata": {},
   "outputs": [
    {
     "data": {
      "image/png": "[encoded data removed]",
      "text/plain": [
       "<Figure size 800x800 with 1 Axes>"
      ]
     },
     "metadata": {},
     "output_type": "display_data"
    }
   ],
   "source": [
    "plot = AbsFreq_Smoker.plot.bar(rot=0, xlabel='smoker', ylabel ='Counts')"
   ]
  },
  {
   "cell_type": "markdown",
   "id": "a0583d7a",
   "metadata": {},
   "source": [
    "There are 1064 `non-smokers` and 274 `smokers` as we can see in the graph"
   ]
  },
  {
   "cell_type": "code",
   "execution_count": 34,
   "id": "6f9ec15f",
   "metadata": {},
   "outputs": [
    {
     "data": {
      "text/plain": [
       "no     0.795217\n",
       "yes    0.204783\n",
       "Name: smoker, dtype: float64"
      ]
     },
     "execution_count": 34,
     "metadata": {},
     "output_type": "execute_result"
    }
   ],
   "source": [
    "RelFreq_Smoke = data['smoker'].value_counts(normalize=True).sort_index()\n",
    "RelFreq_Smoke"
   ]
  },
  {
   "cell_type": "markdown",
   "id": "8d9514b7",
   "metadata": {},
   "source": [
    "#### Probabilities\n",
    "---"
   ]
  },
  {
   "cell_type": "markdown",
   "id": "f43e87ef",
   "metadata": {},
   "source": [
    "+ The probability of being 'non-smoker' is  0.795217\n",
    "+ The probability of being 'smoker' is  0.204783\n"
   ]
  },
  {
   "cell_type": "markdown",
   "id": "f8984f4c",
   "metadata": {},
   "source": [
    "---\n",
    "### REGION\n",
    "+ The primary beneficiary's residential area in the US, northeast, southeast, southwest, northwest."
   ]
  },
  {
   "cell_type": "code",
   "execution_count": 35,
   "id": "854a586d",
   "metadata": {},
   "outputs": [
    {
     "data": {
      "text/plain": [
       "['southwest', 'southeast', 'northwest', 'northeast']\n",
       "Categories (4, object): ['northeast', 'northwest', 'southeast', 'southwest']"
      ]
     },
     "execution_count": 35,
     "metadata": {},
     "output_type": "execute_result"
    }
   ],
   "source": [
    "data['region'].unique()"
   ]
  },
  {
   "cell_type": "markdown",
   "id": "46bda8ea",
   "metadata": {},
   "source": [
    "The `region` variable can take two values: **southwest**, **southeast**, **northwest** and **northeast**"
   ]
  },
  {
   "cell_type": "code",
   "execution_count": 36,
   "id": "dd4b3d0b",
   "metadata": {},
   "outputs": [
    {
     "data": {
      "text/plain": [
       "northeast    324\n",
       "northwest    325\n",
       "southeast    364\n",
       "southwest    325\n",
       "Name: region, dtype: int64"
      ]
     },
     "execution_count": 36,
     "metadata": {},
     "output_type": "execute_result"
    }
   ],
   "source": [
    "AbsFreq_Region = data['region'].value_counts().sort_index()\n",
    "AbsFreq_Region"
   ]
  },
  {
   "cell_type": "markdown",
   "id": "69a62ccd",
   "metadata": {},
   "source": [
    "#### Absolute Frequency\n",
    "---"
   ]
  },
  {
   "cell_type": "markdown",
   "id": "3d19cf8b",
   "metadata": {},
   "source": [
    "+ There are 324 of `northeast` \n",
    "+ There are 325 of `northwest` \n",
    "+ There are 364 of `southeast` \n",
    "+ There are 325 of `southwest` "
   ]
  },
  {
   "cell_type": "code",
   "execution_count": 37,
   "id": "780e7601",
   "metadata": {},
   "outputs": [
    {
     "data": {
      "image/png": "[encoded data removed]",
      "text/plain": [
       "<Figure size 800x800 with 1 Axes>"
      ]
     },
     "metadata": {},
     "output_type": "display_data"
    }
   ],
   "source": [
    "plot = AbsFreq_Region.plot.bar(rot=0, xlabel='region', ylabel ='Counts')"
   ]
  },
  {
   "cell_type": "code",
   "execution_count": 38,
   "id": "5d42f770",
   "metadata": {},
   "outputs": [
    {
     "data": {
      "text/plain": [
       "northeast    0.242152\n",
       "northwest    0.242900\n",
       "southeast    0.272048\n",
       "southwest    0.242900\n",
       "Name: region, dtype: float64"
      ]
     },
     "execution_count": 38,
     "metadata": {},
     "output_type": "execute_result"
    }
   ],
   "source": [
    "RelFreq_Region = data['region'].value_counts(normalize=True).sort_index()\n",
    "RelFreq_Region"
   ]
  },
  {
   "cell_type": "markdown",
   "id": "f0e0c1d8",
   "metadata": {},
   "source": [
    "#### Probabilities\n",
    "---"
   ]
  },
  {
   "cell_type": "markdown",
   "id": "811d745f",
   "metadata": {},
   "source": [
    "+ The probability of live in 'northeast' is  0.242152\n",
    "+ The probability of live in 'northwest' is  0.242900\n",
    "+ The probability of live in 'southeast' is  0.272048\n",
    "+ The probability of live in 'southwest' is  0.242900"
   ]
  },
  {
   "cell_type": "markdown",
   "id": "3bce94d9",
   "metadata": {},
   "source": [
    "## Identification of outliers <a name=\"ci5\"></a>\n",
    "---"
   ]
  },
  {
   "cell_type": "code",
   "execution_count": 39,
   "id": "087d447c",
   "metadata": {},
   "outputs": [],
   "source": [
    "# FUNCIÓN PARA OBTENER OUTLIERS\n",
    "def outliers (datos):\n",
    "    df_iqr = stats.iqr(datos)\n",
    "    print(f\"Interquartile range: {df_iqr}\")\n",
    "    # Para localizar el primer y tercer cuartil.\n",
    "    df_q1, df_q3 = np.quantile(datos, [0.25, 0.75])\n",
    " \n",
    "    # Limites de los valores atípicos\n",
    "    cut_low = df_q1 - 1.5 * df_iqr\n",
    "    cut_high = df_q3 + 1.5 * df_iqr\n",
    " \n",
    "    print(\"Lower and upper outlier limits:\", cut_low, \", \", cut_high)\n",
    " \n",
    "    # Obtenemos de nuestro dataset todos los valores atípicos segun los limites calculados\n",
    "    df_outliers = data.loc[(datos < cut_low) | (datos > cut_high)]\n",
    "\n",
    "    # Representación mediante boxpots (sección gráficos)\n",
    "\n",
    "    print('We have a total of', len(df_outliers), 'outliers')\n",
    "\n",
    "    return df_outliers"
   ]
  },
  {
   "cell_type": "markdown",
   "id": "f8bcdc88",
   "metadata": {},
   "source": [
    "## AGE"
   ]
  },
  {
   "cell_type": "code",
   "execution_count": 40,
   "id": "eb8b28d2",
   "metadata": {},
   "outputs": [
    {
     "name": "stdout",
     "output_type": "stream",
     "text": [
      "Interquartile range: 24.0\n",
      "Lower and upper outlier limits: -9.0 ,  87.0\n",
      "We have a total of 0 outliers\n"
     ]
    },
    {
     "data": {
      "text/html": [
       "<div>\n",
       "<style scoped>\n",
       "    .dataframe tbody tr th:only-of-type {\n",
       "        vertical-align: middle;\n",
       "    }\n",
       "\n",
       "    .dataframe tbody tr th {\n",
       "        vertical-align: top;\n",
       "    }\n",
       "\n",
       "    .dataframe thead th {\n",
       "        text-align: right;\n",
       "    }\n",
       "</style>\n",
       "<table border=\"1\" class=\"dataframe\">\n",
       "  <thead>\n",
       "    <tr style=\"text-align: right;\">\n",
       "      <th></th>\n",
       "      <th>age</th>\n",
       "      <th>sex</th>\n",
       "      <th>bmi</th>\n",
       "      <th>children</th>\n",
       "      <th>smoker</th>\n",
       "      <th>region</th>\n",
       "      <th>charges</th>\n",
       "    </tr>\n",
       "  </thead>\n",
       "  <tbody>\n",
       "  </tbody>\n",
       "</table>\n",
       "</div>"
      ],
      "text/plain": [
       "Empty DataFrame\n",
       "Columns: [age, sex, bmi, children, smoker, region, charges]\n",
       "Index: []"
      ]
     },
     "execution_count": 40,
     "metadata": {},
     "output_type": "execute_result"
    }
   ],
   "source": [
    "# Outliers\n",
    "age_outl = outliers(data.age)\n",
    "age_outl"
   ]
  },
  {
   "cell_type": "markdown",
   "id": "b3e55eaa",
   "metadata": {},
   "source": [
    "## BMI"
   ]
  },
  {
   "cell_type": "code",
   "execution_count": 41,
   "id": "a5e454fe",
   "metadata": {},
   "outputs": [
    {
     "name": "stdout",
     "output_type": "stream",
     "text": [
      "Interquartile range: 8.3975\n",
      "Lower and upper outlier limits: 13.7 ,  47.290000000000006\n",
      "We have a total of 9 outliers\n"
     ]
    },
    {
     "data": {
      "text/html": [
       "<div>\n",
       "<style scoped>\n",
       "    .dataframe tbody tr th:only-of-type {\n",
       "        vertical-align: middle;\n",
       "    }\n",
       "\n",
       "    .dataframe tbody tr th {\n",
       "        vertical-align: top;\n",
       "    }\n",
       "\n",
       "    .dataframe thead th {\n",
       "        text-align: right;\n",
       "    }\n",
       "</style>\n",
       "<table border=\"1\" class=\"dataframe\">\n",
       "  <thead>\n",
       "    <tr style=\"text-align: right;\">\n",
       "      <th></th>\n",
       "      <th>age</th>\n",
       "      <th>sex</th>\n",
       "      <th>bmi</th>\n",
       "      <th>children</th>\n",
       "      <th>smoker</th>\n",
       "      <th>region</th>\n",
       "      <th>charges</th>\n",
       "    </tr>\n",
       "  </thead>\n",
       "  <tbody>\n",
       "    <tr>\n",
       "      <th>116</th>\n",
       "      <td>58</td>\n",
       "      <td>male</td>\n",
       "      <td>49.06</td>\n",
       "      <td>0</td>\n",
       "      <td>no</td>\n",
       "      <td>southeast</td>\n",
       "      <td>11381.32540</td>\n",
       "    </tr>\n",
       "    <tr>\n",
       "      <th>286</th>\n",
       "      <td>46</td>\n",
       "      <td>female</td>\n",
       "      <td>48.07</td>\n",
       "      <td>2</td>\n",
       "      <td>no</td>\n",
       "      <td>northeast</td>\n",
       "      <td>9432.92530</td>\n",
       "    </tr>\n",
       "    <tr>\n",
       "      <th>401</th>\n",
       "      <td>47</td>\n",
       "      <td>male</td>\n",
       "      <td>47.52</td>\n",
       "      <td>1</td>\n",
       "      <td>no</td>\n",
       "      <td>southeast</td>\n",
       "      <td>8083.91980</td>\n",
       "    </tr>\n",
       "    <tr>\n",
       "      <th>543</th>\n",
       "      <td>54</td>\n",
       "      <td>female</td>\n",
       "      <td>47.41</td>\n",
       "      <td>0</td>\n",
       "      <td>yes</td>\n",
       "      <td>southeast</td>\n",
       "      <td>63770.42801</td>\n",
       "    </tr>\n",
       "    <tr>\n",
       "      <th>847</th>\n",
       "      <td>23</td>\n",
       "      <td>male</td>\n",
       "      <td>50.38</td>\n",
       "      <td>1</td>\n",
       "      <td>no</td>\n",
       "      <td>southeast</td>\n",
       "      <td>2438.05520</td>\n",
       "    </tr>\n",
       "    <tr>\n",
       "      <th>860</th>\n",
       "      <td>37</td>\n",
       "      <td>female</td>\n",
       "      <td>47.60</td>\n",
       "      <td>2</td>\n",
       "      <td>yes</td>\n",
       "      <td>southwest</td>\n",
       "      <td>46113.51100</td>\n",
       "    </tr>\n",
       "    <tr>\n",
       "      <th>1047</th>\n",
       "      <td>22</td>\n",
       "      <td>male</td>\n",
       "      <td>52.58</td>\n",
       "      <td>1</td>\n",
       "      <td>yes</td>\n",
       "      <td>southeast</td>\n",
       "      <td>44501.39820</td>\n",
       "    </tr>\n",
       "    <tr>\n",
       "      <th>1088</th>\n",
       "      <td>52</td>\n",
       "      <td>male</td>\n",
       "      <td>47.74</td>\n",
       "      <td>1</td>\n",
       "      <td>no</td>\n",
       "      <td>southeast</td>\n",
       "      <td>9748.91060</td>\n",
       "    </tr>\n",
       "    <tr>\n",
       "      <th>1317</th>\n",
       "      <td>18</td>\n",
       "      <td>male</td>\n",
       "      <td>53.13</td>\n",
       "      <td>0</td>\n",
       "      <td>no</td>\n",
       "      <td>southeast</td>\n",
       "      <td>1163.46270</td>\n",
       "    </tr>\n",
       "  </tbody>\n",
       "</table>\n",
       "</div>"
      ],
      "text/plain": [
       "      age     sex    bmi  children smoker     region      charges\n",
       "116    58    male  49.06         0     no  southeast  11381.32540\n",
       "286    46  female  48.07         2     no  northeast   9432.92530\n",
       "401    47    male  47.52         1     no  southeast   8083.91980\n",
       "543    54  female  47.41         0    yes  southeast  63770.42801\n",
       "847    23    male  50.38         1     no  southeast   2438.05520\n",
       "860    37  female  47.60         2    yes  southwest  46113.51100\n",
       "1047   22    male  52.58         1    yes  southeast  44501.39820\n",
       "1088   52    male  47.74         1     no  southeast   9748.91060\n",
       "1317   18    male  53.13         0     no  southeast   1163.46270"
      ]
     },
     "execution_count": 41,
     "metadata": {},
     "output_type": "execute_result"
    }
   ],
   "source": [
    "# Outliers\n",
    "bmi_outl = outliers(data.bmi)\n",
    "bmi_outl"
   ]
  },
  {
   "cell_type": "markdown",
   "id": "e5606e68",
   "metadata": {},
   "source": [
    "+ There are 9 outliers in this variable, as we can see in the boxplot"
   ]
  },
  {
   "cell_type": "code",
   "execution_count": 42,
   "id": "3d88dc15",
   "metadata": {},
   "outputs": [
    {
     "data": {
      "image/png": "[encoded data removed]",
      "text/plain": [
       "<Figure size 600x800 with 1 Axes>"
      ]
     },
     "metadata": {},
     "output_type": "display_data"
    }
   ],
   "source": [
    "getPlot = data.boxplot(column='bmi', figsize=(6, 8))"
   ]
  },
  {
   "cell_type": "markdown",
   "id": "0b65bfc1",
   "metadata": {},
   "source": [
    "## CHILDREN"
   ]
  },
  {
   "cell_type": "code",
   "execution_count": 43,
   "id": "ec732a4e",
   "metadata": {},
   "outputs": [
    {
     "name": "stdout",
     "output_type": "stream",
     "text": [
      "Interquartile range: 2.0\n",
      "Lower and upper outlier limits: -3.0 ,  5.0\n",
      "We have a total of 0 outliers\n"
     ]
    },
    {
     "data": {
      "text/html": [
       "<div>\n",
       "<style scoped>\n",
       "    .dataframe tbody tr th:only-of-type {\n",
       "        vertical-align: middle;\n",
       "    }\n",
       "\n",
       "    .dataframe tbody tr th {\n",
       "        vertical-align: top;\n",
       "    }\n",
       "\n",
       "    .dataframe thead th {\n",
       "        text-align: right;\n",
       "    }\n",
       "</style>\n",
       "<table border=\"1\" class=\"dataframe\">\n",
       "  <thead>\n",
       "    <tr style=\"text-align: right;\">\n",
       "      <th></th>\n",
       "      <th>age</th>\n",
       "      <th>sex</th>\n",
       "      <th>bmi</th>\n",
       "      <th>children</th>\n",
       "      <th>smoker</th>\n",
       "      <th>region</th>\n",
       "      <th>charges</th>\n",
       "    </tr>\n",
       "  </thead>\n",
       "  <tbody>\n",
       "  </tbody>\n",
       "</table>\n",
       "</div>"
      ],
      "text/plain": [
       "Empty DataFrame\n",
       "Columns: [age, sex, bmi, children, smoker, region, charges]\n",
       "Index: []"
      ]
     },
     "execution_count": 43,
     "metadata": {},
     "output_type": "execute_result"
    }
   ],
   "source": [
    "# Outliers\n",
    "children_outl = outliers(data.children)\n",
    "children_outl"
   ]
  },
  {
   "cell_type": "markdown",
   "id": "ddde322b",
   "metadata": {},
   "source": [
    "## CHARGES"
   ]
  },
  {
   "cell_type": "code",
   "execution_count": 44,
   "id": "8b681f4f",
   "metadata": {},
   "outputs": [
    {
     "name": "stdout",
     "output_type": "stream",
     "text": [
      "Interquartile range: 11899.625365\n",
      "Lower and upper outlier limits: -13109.1508975 ,  34489.350562499996\n",
      "We have a total of 139 outliers\n"
     ]
    },
    {
     "data": {
      "text/html": [
       "<div>\n",
       "<style scoped>\n",
       "    .dataframe tbody tr th:only-of-type {\n",
       "        vertical-align: middle;\n",
       "    }\n",
       "\n",
       "    .dataframe tbody tr th {\n",
       "        vertical-align: top;\n",
       "    }\n",
       "\n",
       "    .dataframe thead th {\n",
       "        text-align: right;\n",
       "    }\n",
       "</style>\n",
       "<table border=\"1\" class=\"dataframe\">\n",
       "  <thead>\n",
       "    <tr style=\"text-align: right;\">\n",
       "      <th></th>\n",
       "      <th>age</th>\n",
       "      <th>sex</th>\n",
       "      <th>bmi</th>\n",
       "      <th>children</th>\n",
       "      <th>smoker</th>\n",
       "      <th>region</th>\n",
       "      <th>charges</th>\n",
       "    </tr>\n",
       "  </thead>\n",
       "  <tbody>\n",
       "    <tr>\n",
       "      <th>14</th>\n",
       "      <td>27</td>\n",
       "      <td>male</td>\n",
       "      <td>42.130</td>\n",
       "      <td>0</td>\n",
       "      <td>yes</td>\n",
       "      <td>southeast</td>\n",
       "      <td>39611.75770</td>\n",
       "    </tr>\n",
       "    <tr>\n",
       "      <th>19</th>\n",
       "      <td>30</td>\n",
       "      <td>male</td>\n",
       "      <td>35.300</td>\n",
       "      <td>0</td>\n",
       "      <td>yes</td>\n",
       "      <td>southwest</td>\n",
       "      <td>36837.46700</td>\n",
       "    </tr>\n",
       "    <tr>\n",
       "      <th>23</th>\n",
       "      <td>34</td>\n",
       "      <td>female</td>\n",
       "      <td>31.920</td>\n",
       "      <td>1</td>\n",
       "      <td>yes</td>\n",
       "      <td>northeast</td>\n",
       "      <td>37701.87680</td>\n",
       "    </tr>\n",
       "    <tr>\n",
       "      <th>29</th>\n",
       "      <td>31</td>\n",
       "      <td>male</td>\n",
       "      <td>36.300</td>\n",
       "      <td>2</td>\n",
       "      <td>yes</td>\n",
       "      <td>southwest</td>\n",
       "      <td>38711.00000</td>\n",
       "    </tr>\n",
       "    <tr>\n",
       "      <th>30</th>\n",
       "      <td>22</td>\n",
       "      <td>male</td>\n",
       "      <td>35.600</td>\n",
       "      <td>0</td>\n",
       "      <td>yes</td>\n",
       "      <td>southwest</td>\n",
       "      <td>35585.57600</td>\n",
       "    </tr>\n",
       "    <tr>\n",
       "      <th>...</th>\n",
       "      <td>...</td>\n",
       "      <td>...</td>\n",
       "      <td>...</td>\n",
       "      <td>...</td>\n",
       "      <td>...</td>\n",
       "      <td>...</td>\n",
       "      <td>...</td>\n",
       "    </tr>\n",
       "    <tr>\n",
       "      <th>1300</th>\n",
       "      <td>45</td>\n",
       "      <td>male</td>\n",
       "      <td>30.360</td>\n",
       "      <td>0</td>\n",
       "      <td>yes</td>\n",
       "      <td>southeast</td>\n",
       "      <td>62592.87309</td>\n",
       "    </tr>\n",
       "    <tr>\n",
       "      <th>1301</th>\n",
       "      <td>62</td>\n",
       "      <td>male</td>\n",
       "      <td>30.875</td>\n",
       "      <td>3</td>\n",
       "      <td>yes</td>\n",
       "      <td>northwest</td>\n",
       "      <td>46718.16325</td>\n",
       "    </tr>\n",
       "    <tr>\n",
       "      <th>1303</th>\n",
       "      <td>43</td>\n",
       "      <td>male</td>\n",
       "      <td>27.800</td>\n",
       "      <td>0</td>\n",
       "      <td>yes</td>\n",
       "      <td>southwest</td>\n",
       "      <td>37829.72420</td>\n",
       "    </tr>\n",
       "    <tr>\n",
       "      <th>1313</th>\n",
       "      <td>19</td>\n",
       "      <td>female</td>\n",
       "      <td>34.700</td>\n",
       "      <td>2</td>\n",
       "      <td>yes</td>\n",
       "      <td>southwest</td>\n",
       "      <td>36397.57600</td>\n",
       "    </tr>\n",
       "    <tr>\n",
       "      <th>1323</th>\n",
       "      <td>42</td>\n",
       "      <td>female</td>\n",
       "      <td>40.370</td>\n",
       "      <td>2</td>\n",
       "      <td>yes</td>\n",
       "      <td>southeast</td>\n",
       "      <td>43896.37630</td>\n",
       "    </tr>\n",
       "  </tbody>\n",
       "</table>\n",
       "<p>139 rows × 7 columns</p>\n",
       "</div>"
      ],
      "text/plain": [
       "      age     sex     bmi  children smoker     region      charges\n",
       "14     27    male  42.130         0    yes  southeast  39611.75770\n",
       "19     30    male  35.300         0    yes  southwest  36837.46700\n",
       "23     34  female  31.920         1    yes  northeast  37701.87680\n",
       "29     31    male  36.300         2    yes  southwest  38711.00000\n",
       "30     22    male  35.600         0    yes  southwest  35585.57600\n",
       "...   ...     ...     ...       ...    ...        ...          ...\n",
       "1300   45    male  30.360         0    yes  southeast  62592.87309\n",
       "1301   62    male  30.875         3    yes  northwest  46718.16325\n",
       "1303   43    male  27.800         0    yes  southwest  37829.72420\n",
       "1313   19  female  34.700         2    yes  southwest  36397.57600\n",
       "1323   42  female  40.370         2    yes  southeast  43896.37630\n",
       "\n",
       "[139 rows x 7 columns]"
      ]
     },
     "execution_count": 44,
     "metadata": {},
     "output_type": "execute_result"
    }
   ],
   "source": [
    "# Outliers\n",
    "charges_outl = outliers(data.charges)\n",
    "charges_outl"
   ]
  },
  {
   "cell_type": "markdown",
   "id": "b982901e",
   "metadata": {},
   "source": [
    "+ There are 139 outliers in this variable, as we can see in the boxplot"
   ]
  },
  {
   "cell_type": "code",
   "execution_count": 45,
   "id": "ccd6e5d7",
   "metadata": {},
   "outputs": [
    {
     "data": {
      "image/png": "[encoded data removed]",
      "text/plain": [
       "<Figure size 600x800 with 1 Axes>"
      ]
     },
     "metadata": {},
     "output_type": "display_data"
    }
   ],
   "source": [
    "getPlot = data.boxplot(column='charges', figsize=(6, 8))"
   ]
  },
  {
   "cell_type": "markdown",
   "id": "cf16e669",
   "metadata": {},
   "source": []
  }
 ],
 "metadata": {
  "kernelspec": {
   "display_name": "Python 3.10.6 ('fmad')",
   "language": "python",
   "name": "python3"
  },
  "language_info": {
   "codemirror_mode": {
    "name": "ipython",
    "version": 3
   },
   "file_extension": ".py",
   "mimetype": "text/x-python",
   "name": "python",
   "nbconvert_exporter": "python",
   "pygments_lexer": "ipython3",
   "version": "3.10.6"
  },
  "vscode": {
   "interpreter": {
    "hash": "1fd52278a64e04702a07d5e2e55ea93d7e9bac1fc9fbdb41036f850a5cfb616d"
   }
  }
 },
 "nbformat": 4,
 "nbformat_minor": 5
}
