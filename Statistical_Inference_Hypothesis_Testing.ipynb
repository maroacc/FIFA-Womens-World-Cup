{
 "cells": [
  {
   "cell_type": "markdown",
   "metadata": {
    "id": "93NdAhnsnalv"
   },
   "source": [
    "<img src='fig/vertical_COMILLAS_COLOR.jpg' style= 'width:70mm'>\n",
    "\n",
    "<h1 style='font-family: Optima;color:#ecac00'>\n",
    "Statistical Inference and Hypothesis Testing\n",
    "<a class=\"tocSkip\">\n",
    "</h1>\n",
    "  \n",
    "</h1>  "
   ]
  },
  {
   "cell_type": "code",
   "execution_count": 3,
   "metadata": {
    "executionInfo": {
     "elapsed": 1409,
     "status": "ok",
     "timestamp": 1666625455254,
     "user": {
      "displayName": "Marta Simón",
      "userId": "11515203871026250009"
     },
     "user_tz": -120
    },
    "id": "GoNFCmYcnalz"
   },
   "outputs": [],
   "source": [
    "import numpy as np\n",
    "import pandas as pd\n",
    "import matplotlib.pyplot as plt\n",
    "import scipy as scp\n",
    "\n",
    "import seaborn as sns\n",
    "import scipy.stats as stats\n",
    "\n",
    "#sns.set(rc={'figure.figsize':(12, 8.5)})\n",
    "sns.set()"
   ]
  },
  {
   "cell_type": "markdown",
   "metadata": {},
   "source": [
    "# Table of contents\n",
    "1. [Introduction](#intro)\n",
    "    1. [Data Load](#intro-dataload)\n",
    "2. [Confindence Intervals](#ci)\n",
    "    1. [BMI](#ci-bmi)\n",
    "    2. [Charges](#ci-charges)\n",
    "3. [Variable ](#paragraph2)"
   ]
  },
  {
   "cell_type": "markdown",
   "metadata": {},
   "source": [
    "## Introduction  <a name=\"intro\"></a>"
   ]
  },
  {
   "cell_type": "markdown",
   "metadata": {},
   "source": [
    "In this section we will conduct statistical inference and hypoyhesis testing of the medical charges dataset. In particular, we will look carefully into the variables BMI and Smoking, and their relationship to other variables like Age and Charges. We have chosen these variables since we believe they could account for extra increases in insurance price."
   ]
  },
  {
   "cell_type": "markdown",
   "metadata": {},
   "source": [
    "### Data Load  <a name=\"intro-dataload\"></a>"
   ]
  },
  {
   "cell_type": "code",
   "execution_count": 4,
   "metadata": {
    "colab": {
     "base_uri": "https://localhost:8080/",
     "height": 363
    },
    "executionInfo": {
     "elapsed": 331,
     "status": "ok",
     "timestamp": 1666625465672,
     "user": {
      "displayName": "Marta Simón",
      "userId": "11515203871026250009"
     },
     "user_tz": -120
    },
    "id": "vvkJbZ8pnal0",
    "outputId": "2a5aa9d2-aab2-4354-c1a3-60fabe963b0c"
   },
   "outputs": [
    {
     "data": {
      "text/html": [
       "<div>\n",
       "<style scoped>\n",
       "    .dataframe tbody tr th:only-of-type {\n",
       "        vertical-align: middle;\n",
       "    }\n",
       "\n",
       "    .dataframe tbody tr th {\n",
       "        vertical-align: top;\n",
       "    }\n",
       "\n",
       "    .dataframe thead th {\n",
       "        text-align: right;\n",
       "    }\n",
       "</style>\n",
       "<table border=\"1\" class=\"dataframe\">\n",
       "  <thead>\n",
       "    <tr style=\"text-align: right;\">\n",
       "      <th></th>\n",
       "      <th>age</th>\n",
       "      <th>sex</th>\n",
       "      <th>bmi</th>\n",
       "      <th>children</th>\n",
       "      <th>smoker</th>\n",
       "      <th>region</th>\n",
       "      <th>charges</th>\n",
       "    </tr>\n",
       "  </thead>\n",
       "  <tbody>\n",
       "    <tr>\n",
       "      <th>0</th>\n",
       "      <td>19</td>\n",
       "      <td>female</td>\n",
       "      <td>27.900</td>\n",
       "      <td>0</td>\n",
       "      <td>yes</td>\n",
       "      <td>southwest</td>\n",
       "      <td>16884.92400</td>\n",
       "    </tr>\n",
       "    <tr>\n",
       "      <th>1</th>\n",
       "      <td>18</td>\n",
       "      <td>male</td>\n",
       "      <td>33.770</td>\n",
       "      <td>1</td>\n",
       "      <td>no</td>\n",
       "      <td>southeast</td>\n",
       "      <td>1725.55230</td>\n",
       "    </tr>\n",
       "    <tr>\n",
       "      <th>2</th>\n",
       "      <td>28</td>\n",
       "      <td>male</td>\n",
       "      <td>33.000</td>\n",
       "      <td>3</td>\n",
       "      <td>no</td>\n",
       "      <td>southeast</td>\n",
       "      <td>4449.46200</td>\n",
       "    </tr>\n",
       "    <tr>\n",
       "      <th>3</th>\n",
       "      <td>33</td>\n",
       "      <td>male</td>\n",
       "      <td>22.705</td>\n",
       "      <td>0</td>\n",
       "      <td>no</td>\n",
       "      <td>northwest</td>\n",
       "      <td>21984.47061</td>\n",
       "    </tr>\n",
       "    <tr>\n",
       "      <th>4</th>\n",
       "      <td>32</td>\n",
       "      <td>male</td>\n",
       "      <td>28.880</td>\n",
       "      <td>0</td>\n",
       "      <td>no</td>\n",
       "      <td>northwest</td>\n",
       "      <td>3866.85520</td>\n",
       "    </tr>\n",
       "  </tbody>\n",
       "</table>\n",
       "</div>"
      ],
      "text/plain": [
       "   age     sex     bmi  children smoker     region      charges\n",
       "0   19  female  27.900         0    yes  southwest  16884.92400\n",
       "1   18    male  33.770         1     no  southeast   1725.55230\n",
       "2   28    male  33.000         3     no  southeast   4449.46200\n",
       "3   33    male  22.705         0     no  northwest  21984.47061\n",
       "4   32    male  28.880         0     no  northwest   3866.85520"
      ]
     },
     "execution_count": 4,
     "metadata": {},
     "output_type": "execute_result"
    }
   ],
   "source": [
    "# Load the data\n",
    "insurance = pd.read_csv(\"data/insurance.csv\")\n",
    "\n",
    "# Check the column names\n",
    "insurance.head()"
   ]
  },
  {
   "cell_type": "markdown",
   "metadata": {},
   "source": [
    "### Confidence Interval Funcion Definition"
   ]
  },
  {
   "cell_type": "markdown",
   "metadata": {},
   "source": [
    "We have defined a function that will simplify the calculation of the confidence intervals and increase code readibility and clarity."
   ]
  },
  {
   "cell_type": "code",
   "execution_count": 5,
   "metadata": {
    "executionInfo": {
     "elapsed": 2,
     "status": "ok",
     "timestamp": 1666625467654,
     "user": {
      "displayName": "Marta Simón",
      "userId": "11515203871026250009"
     },
     "user_tz": -120
    },
    "id": "AiqlDSBcnal2"
   },
   "outputs": [],
   "source": [
    "# Funcion para calcular intervalos\n",
    "def confidence_interval(data):  \n",
    "    n = len(data)\n",
    "    barX = data.mean()\n",
    "    s = data.std()\n",
    "\n",
    "    # Cálculo rápido del punto crítico:\n",
    "    cl = 0.95\n",
    "    alpha = 1 - cl\n",
    "    crit_point = stats.norm.isf(alpha/2, loc = 0, scale = 1)\n",
    "    # Formula de los intervalos de confianza (x barra +- crit_point*var/raiz de n)\n",
    "    conf_int = barX + np.array([-1, 1]) * crit_point * s / np.sqrt(n)\n",
    "    print(\"The confidence interval is \", conf_int)\n",
    "    print(\"Rounded to 4 digits: [{:.4}, {:.4}]\".format(conf_int[0], conf_int[1]))"
   ]
  },
  {
   "cell_type": "markdown",
   "metadata": {
    "id": "ZXuyshIznsKm"
   },
   "source": [
    "## BMI"
   ]
  },
  {
   "cell_type": "markdown",
   "metadata": {},
   "source": [
    "In this section we will look into the BMI variable. The body mass index is defined as the body mass divided by the square of the body height, and is expressed in units of kg/m2.\n",
    "The BMI ranges are defined as follows:\n",
    "\n",
    "- Less than 18.5 = Underweight\n",
    "- Between 18.5 - 24.9 = Healthy Weight\n",
    "- Between 25 - 29.9 = Overweight\n",
    "- Over 30 = Obese\n",
    "\n",
    "The following graph illustrates the different combinations of height and weight that a person can have in order to belong to each of these groups. It is important to note that the BMI does not account for gender, age, ethnicity or muscle mass."
   ]
  },
  {
   "cell_type": "markdown",
   "metadata": {},
   "source": [
    "<img src=\"fig/bmi.jpg\" width=500 height=500 style=\"margin: auto\" />\n"
   ]
  },
  {
   "cell_type": "markdown",
   "metadata": {
    "id": "v75BdGfJnal3"
   },
   "source": [
    "### Confidence Interval for the BMI average"
   ]
  },
  {
   "cell_type": "markdown",
   "metadata": {},
   "source": [
    "In the next line we will calculate the 95% confidence interval for the average of the BMI for the population."
   ]
  },
  {
   "cell_type": "code",
   "execution_count": 6,
   "metadata": {
    "colab": {
     "base_uri": "https://localhost:8080/"
    },
    "executionInfo": {
     "elapsed": 5,
     "status": "ok",
     "timestamp": 1666625467937,
     "user": {
      "displayName": "Marta Simón",
      "userId": "11515203871026250009"
     },
     "user_tz": -120
    },
    "id": "0Gbix9kinal3",
    "outputId": "4c2d9fc8-cfbb-4459-828f-b127599e28dc"
   },
   "outputs": [
    {
     "name": "stdout",
     "output_type": "stream",
     "text": [
      "The confidence interval is  [30.33664297 30.99015075]\n",
      "Rounded to 4 digits: [30.34, 30.99]\n"
     ]
    }
   ],
   "source": [
    "confidence_interval(insurance.bmi)"
   ]
  },
  {
   "cell_type": "markdown",
   "metadata": {},
   "source": [
    "According to the BMI ranges, the insurance withholder is obese. This is slighly higher than the average BMI for the USA, which is 28.5 [1]"
   ]
  },
  {
   "cell_type": "markdown",
   "metadata": {},
   "source": [
    "### BMI by Gender"
   ]
  },
  {
   "cell_type": "markdown",
   "metadata": {
    "id": "ehec4NOQouW-"
   },
   "source": [
    "#### Hypothesis Testing: Difference in BMI mean by gender\n",
    "Next, we will test whether there exist significant differences in the BMI between males and females with a confidence level of 95%. we have chosen to test whether females have a higher BMI because women tend to have slighly more fat than men.\n",
    "\n",
    "$$H_0:\\{\\mu_{female} \\leq \\mu_{male}\\}$$\n",
    "$$H_A:\\{\\mu_{female} > \\mu_{male}\\}$$"
   ]
  },
  {
   "cell_type": "code",
   "execution_count": 7,
   "metadata": {
    "colab": {
     "base_uri": "https://localhost:8080/"
    },
    "executionInfo": {
     "elapsed": 3,
     "status": "ok",
     "timestamp": 1666625882971,
     "user": {
      "displayName": "Marta Simón",
      "userId": "11515203871026250009"
     },
     "user_tz": -120
    },
    "id": "73v7hgR4osmn",
    "outputId": "22916dd5-fcdc-4c6f-aa47-27fab30f36d4"
   },
   "outputs": [
    {
     "data": {
      "text/plain": [
       "Ttest_indResult(statistic=-1.697027933124022, pvalue=0.9550378466608257)"
      ]
     },
     "execution_count": 7,
     "metadata": {},
     "output_type": "execute_result"
    }
   ],
   "source": [
    "insurance_females = insurance[insurance.sex == 'female']\n",
    "insurance_males = insurance[insurance.sex == 'male']\n",
    "stats.ttest_ind(a=insurance_females.bmi, b=insurance_males.bmi, equal_var=False, alternative='greater')"
   ]
  },
  {
   "cell_type": "markdown",
   "metadata": {
    "id": "-OPZVD7VpPuU"
   },
   "source": [
    "The p-value is higher than 0.05, therefore the null hypothesis cannot be rejected and he alternative hypothesis is not accepted: the BMI is not higher for females than for males. This could be due to social pressure to remain thin being higher for women than for men [2].\n",
    "\n",
    "Next, we will calculate the confidence intervals for each of the datasets, to check that our result and the decision to reject $H_0$ is correct."
   ]
  },
  {
   "cell_type": "markdown",
   "metadata": {
    "id": "NXaX2zebnal4"
   },
   "source": [
    "#### BMI Confidence Interval in Men"
   ]
  },
  {
   "cell_type": "code",
   "execution_count": 8,
   "metadata": {
    "colab": {
     "base_uri": "https://localhost:8080/"
    },
    "executionInfo": {
     "elapsed": 3,
     "status": "ok",
     "timestamp": 1666625467937,
     "user": {
      "displayName": "Marta Simón",
      "userId": "11515203871026250009"
     },
     "user_tz": -120
    },
    "id": "n-j73F6Nnal5",
    "outputId": "d2f34628-f93c-463c-e263-765211c0e0ae"
   },
   "outputs": [
    {
     "name": "stdout",
     "output_type": "stream",
     "text": [
      "The confidence interval is  [30.4802429  31.40601449]\n",
      "Rounded to 4 digits: [30.48, 31.41]\n"
     ]
    }
   ],
   "source": [
    "confidence_interval(insurance_males.bmi)"
   ]
  },
  {
   "cell_type": "markdown",
   "metadata": {
    "id": "rT_IStY7nal5"
   },
   "source": [
    "#### BMI Confidence Interval in Women"
   ]
  },
  {
   "cell_type": "code",
   "execution_count": 9,
   "metadata": {
    "colab": {
     "base_uri": "https://localhost:8080/"
    },
    "executionInfo": {
     "elapsed": 277,
     "status": "ok",
     "timestamp": 1666625468606,
     "user": {
      "displayName": "Marta Simón",
      "userId": "11515203871026250009"
     },
     "user_tz": -120
    },
    "id": "qg_Y2FNZnal6",
    "outputId": "49074246-6e5e-4899-b2f9-237b7eced03a"
   },
   "outputs": [
    {
     "name": "stdout",
     "output_type": "stream",
     "text": [
      "The confidence interval is  [29.9171864  30.83831209]\n",
      "Rounded to 4 digits: [29.92, 30.84]\n"
     ]
    }
   ],
   "source": [
    "confidence_interval(insurance_females.bmi)"
   ]
  },
  {
   "cell_type": "markdown",
   "metadata": {},
   "source": [
    "As expected, men have higher a higher BMI than women, although the difference is slight. "
   ]
  },
  {
   "cell_type": "markdown",
   "metadata": {
    "id": "uc0lq_x5nal6"
   },
   "source": [
    "### BMI by Age"
   ]
  },
  {
   "cell_type": "markdown",
   "metadata": {},
   "source": [
    "In this section we will analyze differences in BMI according to age. For this, we will divide our dataset in 3 groups: young (0-25), middle aged (26-40) and old (41-65). Admittedly, people aged 41-65 are not old, we only chose this label to improve readibility as opposed to Older-Mid-Aged."
   ]
  },
  {
   "cell_type": "code",
   "execution_count": 10,
   "metadata": {
    "executionInfo": {
     "elapsed": 4,
     "status": "ok",
     "timestamp": 1666625468607,
     "user": {
      "displayName": "Marta Simón",
      "userId": "11515203871026250009"
     },
     "user_tz": -120
    },
    "id": "OubOqoR8nal7"
   },
   "outputs": [],
   "source": [
    "Age_nodes = [0,25,40,65] \n",
    "insurance['Age_bins'] = pd.cut(insurance['age'], bins=Age_nodes, ordered=True, labels=['Young', 'Mid-Aged', 'Old'])"
   ]
  },
  {
   "cell_type": "code",
   "execution_count": 11,
   "metadata": {
    "colab": {
     "base_uri": "https://localhost:8080/",
     "height": 285
    },
    "executionInfo": {
     "elapsed": 685,
     "status": "ok",
     "timestamp": 1666625469732,
     "user": {
      "displayName": "Marta Simón",
      "userId": "11515203871026250009"
     },
     "user_tz": -120
    },
    "id": "m1r09ppFnal7",
    "outputId": "2e3db39f-94d8-4b7d-dc44-ea136bf3c303"
   },
   "outputs": [
    {
     "data": {
      "image/png": "[encoded data removed]",
      "text/plain": [
       "<Figure size 432x288 with 1 Axes>"
      ]
     },
     "metadata": {
      "needs_background": "light"
     },
     "output_type": "display_data"
    }
   ],
   "source": [
    "plot = insurance['Age_bins'].value_counts().sort_index().plot.bar(rot=0, xlabel='Age_binned', ylabel ='Counts')"
   ]
  },
  {
   "cell_type": "markdown",
   "metadata": {
    "id": "EHTrtyoKuRc-"
   },
   "source": [
    "#### Hypothesis Testing: Difference in BMI by Age\n",
    "In this section we will prove that the mean of the BMI is different for the different age groups. \n",
    "\n",
    "$$\n",
    "\\quad\\\\\n",
    "H_0 = \\{\\mu_{young} = \\mu_{middle} = \\mu_{old}\\}\n",
    "\\quad\\\\\n",
    "$$\n",
    "\n",
    "Since there are more than groups, we will use ANOVA. In this test, a p-value lower than 0.05 means that _at least_ one mean is different from the rest."
   ]
  },
  {
   "cell_type": "code",
   "execution_count": 12,
   "metadata": {
    "colab": {
     "base_uri": "https://localhost:8080/"
    },
    "executionInfo": {
     "elapsed": 3,
     "status": "ok",
     "timestamp": 1666629104092,
     "user": {
      "displayName": "Marta Simón",
      "userId": "11515203871026250009"
     },
     "user_tz": -120
    },
    "id": "l5tOgshAzx46",
    "outputId": "633a46dd-da15-49d9-c6f8-9d3c36ea82ef"
   },
   "outputs": [
    {
     "data": {
      "text/plain": [
       "F_onewayResult(statistic=6.894035218091769, pvalue=0.0010503023799197928)"
      ]
     },
     "execution_count": 12,
     "metadata": {},
     "output_type": "execute_result"
    }
   ],
   "source": [
    "anova = stats.f_oneway(insurance['bmi'][insurance['Age_bins'] == 'Young'],\n",
    "               insurance['bmi'][insurance['Age_bins'] == 'Mid-Aged'],\n",
    "               insurance['bmi'][insurance['Age_bins'] == 'Old'])\n",
    "anova"
   ]
  },
  {
   "cell_type": "markdown",
   "metadata": {
    "id": "pwksLecf1sH_"
   },
   "source": [
    "**Conclusiones ANOVA**\n",
    "\n",
    "The p-value is lower than 0.05, therefore we reject $H_0$ and confir that not all means for the different age groups are equal.\n",
    "\n",
    "Next, we will calculate the confidence intervals to confirm this"
   ]
  },
  {
   "cell_type": "markdown",
   "metadata": {
    "id": "2sdKGRzRqK7v"
   },
   "source": [
    "#### BMI Confidence Interval in Young Patients"
   ]
  },
  {
   "cell_type": "code",
   "execution_count": 13,
   "metadata": {
    "colab": {
     "base_uri": "https://localhost:8080/"
    },
    "executionInfo": {
     "elapsed": 6,
     "status": "ok",
     "timestamp": 1666625469732,
     "user": {
      "displayName": "Marta Simón",
      "userId": "11515203871026250009"
     },
     "user_tz": -120
    },
    "id": "IMfkp81mnal7",
    "outputId": "c80565ce-5249-4bbb-cf15-a01cb61eac1d"
   },
   "outputs": [
    {
     "name": "stdout",
     "output_type": "stream",
     "text": [
      "The confidence interval is  [29.29960019 30.71510569]\n",
      "Rounded to 4 digits: [29.3, 30.72]\n"
     ]
    }
   ],
   "source": [
    "insurance_age_young = insurance[insurance.Age_bins == 'Young']\n",
    "confidence_interval(insurance_age_young.bmi)"
   ]
  },
  {
   "cell_type": "markdown",
   "metadata": {
    "id": "y0SBWHmnqYK2"
   },
   "source": [
    "#### BMI Confidence Interval in Middle-Age Patients"
   ]
  },
  {
   "cell_type": "code",
   "execution_count": 14,
   "metadata": {
    "colab": {
     "base_uri": "https://localhost:8080/"
    },
    "executionInfo": {
     "elapsed": 5,
     "status": "ok",
     "timestamp": 1666625469733,
     "user": {
      "displayName": "Marta Simón",
      "userId": "11515203871026250009"
     },
     "user_tz": -120
    },
    "id": "MWFgA6Donal8",
    "outputId": "4217e140-83c8-4353-e513-fa23efb21d00"
   },
   "outputs": [
    {
     "name": "stdout",
     "output_type": "stream",
     "text": [
      "The confidence interval is  [29.52477121 30.73859588]\n",
      "Rounded to 4 digits: [29.52, 30.74]\n"
     ]
    }
   ],
   "source": [
    "insurance_age_middle = insurance[insurance.Age_bins == 'Mid-Aged']\n",
    "confidence_interval(insurance_age_middle.bmi)"
   ]
  },
  {
   "cell_type": "markdown",
   "metadata": {
    "id": "GJy5eMqAqejV"
   },
   "source": [
    "#### BMI Confidence Interval in Old Patients"
   ]
  },
  {
   "cell_type": "code",
   "execution_count": 15,
   "metadata": {
    "colab": {
     "base_uri": "https://localhost:8080/"
    },
    "executionInfo": {
     "elapsed": 5,
     "status": "ok",
     "timestamp": 1666625470041,
     "user": {
      "displayName": "Marta Simón",
      "userId": "11515203871026250009"
     },
     "user_tz": -120
    },
    "id": "x-cfstj_nal8",
    "outputId": "744a9c2a-afcf-4924-debb-cc71200a1ad5"
   },
   "outputs": [
    {
     "name": "stdout",
     "output_type": "stream",
     "text": [
      "The confidence interval is  [30.85028966 31.76622525]\n",
      "Rounded to 4 digits: [30.85, 31.77]\n"
     ]
    }
   ],
   "source": [
    "insurance_age_old = insurance[insurance.Age_bins == 'Old']\n",
    "confidence_interval(insurance_age_old.bmi)"
   ]
  },
  {
   "cell_type": "markdown",
   "metadata": {},
   "source": [
    "After calculating the confidence interval, we see that the BMI mean for Young and Middle-Aged patients is practically identical. However, the confidence interval for the mean for Older patients is higher than for Younger patients since the intervals do not overlap."
   ]
  },
  {
   "cell_type": "markdown",
   "metadata": {
    "id": "su7ulBBAnal8"
   },
   "source": [
    "### Conclusiones del intervalo de confianza para la variable BMI\n",
    "While your BMI can give you an indication as to whether you’re at a healthy weight for your height, it’s far from perfect. BMI calculations and charts don’t adjust for your gender, age, race, ethnicity and other factors, which can impact your body fat and muscle—and therefore skew your BMI higher or lower. For example, research shows that the risk of diabetes is higher among Asians, Blacks and Hispanics than whites, even after taking into account BMI differences[[1](https://diabetesjournals.org/care/article/29/7/1585/28623/Ethnicity-Obesity-and-Risk-of-Type-2-Diabetes-in)].\n",
    "\n",
    "BMI is a tool that helps determine whether you’re at a healthy weight in relation to your height—but “tool” is the operative word. While it’s designed to estimate whether you have excess or inadequate body fat, it does not measure fat directly—therefore it does not provide the whole picture for some people.\n",
    "\n",
    "That’s why BMI alone should not be the only factor considered when gauging if you’re at a healthy weight. “It’s a base assessment,” says Jamie Feit, a registered dietitian at Testing.com, which offers at-home and lab testing information and resources. Other factors to consider include your age, gender, weight distribution, family medical history and lifestyle.\n",
    "\n",
    "Adolphe Quetelet, a mathematician, first developed BMI and named it decades ago—it was first cited in 1972 in the Journal of Chronic Diseases. Quetelet developed the height-to-weight equation as a way to help determine an ideal weight for populations in general, not necessarily for individuals.\n",
    "\n",
    "But because BMI is an accessible—albeit impercise—tool, it’s been adopted by the healthcare community and scientific researchers as a way of indicating the relative amount of body fat on a person’s body frame, and assessing if a person is at a healthy weight for their height.\n",
    "\n",
    "While BMI doesn’t directly measure body fat, per se, it can give you and your healthcare provider an indication of whether you carry excess body fat, which in turn puts you at greater risk for type 2 diabetes, heart disease, high blood pressure and some cancers. However, having a BMI that’s too low poses other health problems, such as malnutrition and low bone density.\n",
    "\n",
    "<img src='./fig/BMI_Graph.jpg'>\n"
   ]
  },
  {
   "cell_type": "markdown",
   "metadata": {
    "id": "TxMy7Kbjnal9"
   },
   "source": [
    "## Insurance Price"
   ]
  },
  {
   "cell_type": "markdown",
   "metadata": {},
   "source": [
    "In this section we will analyze the differences in insurance price for patients according to gender, age and BMI. We will also back with research whether any increase in cost is research-backed or presumably arbitrary."
   ]
  },
  {
   "cell_type": "markdown",
   "metadata": {
    "id": "Hhf1pZCrwx2I"
   },
   "source": [
    "### Confidence interval for the Insurance Price average"
   ]
  },
  {
   "cell_type": "code",
   "execution_count": 16,
   "metadata": {
    "colab": {
     "base_uri": "https://localhost:8080/"
    },
    "executionInfo": {
     "elapsed": 4,
     "status": "ok",
     "timestamp": 1666625470041,
     "user": {
      "displayName": "Marta Simón",
      "userId": "11515203871026250009"
     },
     "user_tz": -120
    },
    "id": "WsTwhPzQnal9",
    "outputId": "d0673f33-9320-4ffe-e02e-d38dd0354c54"
   },
   "outputs": [
    {
     "name": "stdout",
     "output_type": "stream",
     "text": [
      "The confidence interval is  [12621.54197823 13919.30255205]\n",
      "Rounded to 4 digits: [1.262e+04, 1.392e+04]\n"
     ]
    }
   ],
   "source": [
    "confidence_interval(insurance.charges)"
   ]
  },
  {
   "cell_type": "markdown",
   "metadata": {},
   "source": [
    "The population insurance price mean is between 12.621 k and 13.919 k"
   ]
  },
  {
   "cell_type": "markdown",
   "metadata": {},
   "source": [
    " ### Insurance Price by Gender"
   ]
  },
  {
   "cell_type": "markdown",
   "metadata": {
    "id": "ONYCC5PgwnDw"
   },
   "source": [
    "#### Hypothesis Testing: Difference in insurance price mean by gender\n",
    "We will test whether insurance price is different in males than females. For this, we will evaluate whether it is higher for men than for women.\n",
    "\n",
    "$$H_0:\\{\\mu_{female} > \\mu_{male}\\}$$\n",
    "$$H_A:\\{\\mu_{female} \\leq \\mu_{male}\\}$$"
   ]
  },
  {
   "cell_type": "code",
   "execution_count": 17,
   "metadata": {
    "colab": {
     "base_uri": "https://localhost:8080/"
    },
    "executionInfo": {
     "elapsed": 199,
     "status": "ok",
     "timestamp": 1666627941029,
     "user": {
      "displayName": "Marta Simón",
      "userId": "11515203871026250009"
     },
     "user_tz": -120
    },
    "id": "5ecek58pwvkH",
    "outputId": "e67d2b46-8a11-42b0-9758-912638f5bdb6"
   },
   "outputs": [
    {
     "data": {
      "text/plain": [
       "Ttest_indResult(statistic=-2.1008878232359565, pvalue=0.017920507478008323)"
      ]
     },
     "execution_count": 17,
     "metadata": {},
     "output_type": "execute_result"
    }
   ],
   "source": [
    "stats.ttest_ind(a=insurance_females.charges, b=insurance_males.charges, equal_var=False, alternative='less')"
   ]
  },
  {
   "cell_type": "markdown",
   "metadata": {
    "id": "qzvQIeUMxEG_"
   },
   "source": [
    "The p-value is lower than 0.05. We reject the null hypothesis for a confidence level of 95%: insurance costs are higher for men than for women.\n",
    "\n",
    "Next, we will calculate the confidence intervals to confirm that the rejection of $H_0$ is correct."
   ]
  },
  {
   "cell_type": "markdown",
   "metadata": {
    "id": "-8kojosMnal-"
   },
   "source": [
    "#### Insurance Price Confidence Interval in Men"
   ]
  },
  {
   "cell_type": "code",
   "execution_count": 18,
   "metadata": {
    "colab": {
     "base_uri": "https://localhost:8080/"
    },
    "executionInfo": {
     "elapsed": 3,
     "status": "ok",
     "timestamp": 1666625470329,
     "user": {
      "displayName": "Marta Simón",
      "userId": "11515203871026250009"
     },
     "user_tz": -120
    },
    "id": "Vr0N2ioxnal-",
    "outputId": "b273778e-0535-437c-a345-0fe5d75647a4"
   },
   "outputs": [
    {
     "name": "stdout",
     "output_type": "stream",
     "text": [
      "The confidence interval is  [12978.95334557 14934.54900987]\n",
      "Rounded to 4 digits: [1.298e+04, 1.493e+04]\n"
     ]
    }
   ],
   "source": [
    "confidence_interval(insurance_males.charges)"
   ]
  },
  {
   "cell_type": "markdown",
   "metadata": {
    "id": "oY1krBnbnal-"
   },
   "source": [
    "#### Insurance Price Confidence Interval in Women"
   ]
  },
  {
   "cell_type": "code",
   "execution_count": 19,
   "metadata": {
    "colab": {
     "base_uri": "https://localhost:8080/"
    },
    "executionInfo": {
     "elapsed": 2,
     "status": "ok",
     "timestamp": 1666625470783,
     "user": {
      "displayName": "Marta Simón",
      "userId": "11515203871026250009"
     },
     "user_tz": -120
    },
    "id": "A-PJPYVXnal-",
    "outputId": "0c5a3f2e-3430-430a-d333-82caab0328dd"
   },
   "outputs": [
    {
     "name": "stdout",
     "output_type": "stream",
     "text": [
      "The confidence interval is  [11721.83688351 13417.32080417]\n",
      "Rounded to 4 digits: [1.172e+04, 1.342e+04]\n"
     ]
    }
   ],
   "source": [
    "confidence_interval(insurance_females.charges)"
   ]
  },
  {
   "cell_type": "markdown",
   "metadata": {},
   "source": [
    "As expected, "
   ]
  },
  {
   "cell_type": "markdown",
   "metadata": {
    "id": "lZVHne3Bnal-"
   },
   "source": [
    "### Insurance Price by Age"
   ]
  },
  {
   "cell_type": "markdown",
   "metadata": {
    "id": "h8Q-Yj-_3dpn"
   },
   "source": [
    "#### Hypothesis Testing: Difference in Insurance Price by Age\n",
    "Next, we will analyze whether there is a difference in the mean of the insurance price related to the age of the patient.\n",
    "\n",
    "$$\n",
    "\\quad\\\\\n",
    "H_0 = \\{\\mu_{young} = \\mu_{middle} = \\mu_{old}\\}\n",
    "\\quad\\\\\n",
    "$$\n",
    "\n",
    "Once again, we will use ANOVA to check this hypothesis."
   ]
  },
  {
   "cell_type": "code",
   "execution_count": 20,
   "metadata": {
    "colab": {
     "base_uri": "https://localhost:8080/"
    },
    "executionInfo": {
     "elapsed": 4,
     "status": "ok",
     "timestamp": 1666629665628,
     "user": {
      "displayName": "Marta Simón",
      "userId": "11515203871026250009"
     },
     "user_tz": -120
    },
    "id": "GVgL3F103dVO",
    "outputId": "eb5dbd0c-65eb-4a39-e8ac-7dcc19b94c4b"
   },
   "outputs": [
    {
     "data": {
      "text/plain": [
       "F_onewayResult(statistic=52.91836477005623, pvalue=7.645137051605051e-23)"
      ]
     },
     "execution_count": 20,
     "metadata": {},
     "output_type": "execute_result"
    }
   ],
   "source": [
    "anova = stats.f_oneway(insurance['charges'][insurance['Age_bins'] == 'Young'],\n",
    "               insurance['charges'][insurance['Age_bins'] == 'Mid-Aged'],\n",
    "               insurance['charges'][insurance['Age_bins'] == 'Old'])\n",
    "anova"
   ]
  },
  {
   "cell_type": "markdown",
   "metadata": {},
   "source": [
    "The p-value is lower than 0.05, therefore we can reject the null hypothesis and state that there is a difference in the mean of the groups. However, this test does not say which mean is different. We will now perform some confidence intervals to get an idea of what is happening."
   ]
  },
  {
   "cell_type": "markdown",
   "metadata": {
    "id": "m6oyw8LTrjW-"
   },
   "source": [
    "#### Insurance Price Confidence Interval in Young Patients"
   ]
  },
  {
   "cell_type": "code",
   "execution_count": 22,
   "metadata": {
    "colab": {
     "base_uri": "https://localhost:8080/"
    },
    "executionInfo": {
     "elapsed": 5,
     "status": "ok",
     "timestamp": 1666625471046,
     "user": {
      "displayName": "Marta Simón",
      "userId": "11515203871026250009"
     },
     "user_tz": -120
    },
    "id": "nt0s23bYnal_",
    "outputId": "deedefc7-88b1-4d59-eb5d-0ec663e64a47"
   },
   "outputs": [
    {
     "name": "stdout",
     "output_type": "stream",
     "text": [
      "The confidence interval is  [ 7769.74453221 10404.28708164]\n",
      "Rounded to 4 digits: [7.77e+03, 1.04e+04]\n"
     ]
    }
   ],
   "source": [
    "confidence_interval(insurance_age_young.charges)"
   ]
  },
  {
   "cell_type": "markdown",
   "metadata": {
    "id": "Hbx12i3Bro02"
   },
   "source": [
    "#### Insurance Price Confidence Interval in Middle-Aged Patients"
   ]
  },
  {
   "cell_type": "code",
   "execution_count": 22,
   "metadata": {
    "colab": {
     "base_uri": "https://localhost:8080/"
    },
    "executionInfo": {
     "elapsed": 4,
     "status": "ok",
     "timestamp": 1666625471046,
     "user": {
      "displayName": "Marta Simón",
      "userId": "11515203871026250009"
     },
     "user_tz": -120
    },
    "id": "2wcD5zv9nal_",
    "outputId": "b1c3725d-a27e-4310-e3db-0b8af01e97ce"
   },
   "outputs": [
    {
     "name": "stdout",
     "output_type": "stream",
     "text": [
      "The confidence interval for males is  [ 9973.90890945 12219.45107941]\n",
      "Rounded to 4 digits: [9.974e+03, 1.222e+04]\n"
     ]
    }
   ],
   "source": [
    "confidence_interval(insurance_age_middle.charges)"
   ]
  },
  {
   "cell_type": "markdown",
   "metadata": {
    "id": "B37YAJaErs95"
   },
   "source": [
    "#### Insurance Price Confidence Interval in Old Patients"
   ]
  },
  {
   "cell_type": "code",
   "execution_count": 23,
   "metadata": {
    "colab": {
     "base_uri": "https://localhost:8080/"
    },
    "executionInfo": {
     "elapsed": 6,
     "status": "ok",
     "timestamp": 1666625471879,
     "user": {
      "displayName": "Marta Simón",
      "userId": "11515203871026250009"
     },
     "user_tz": -120
    },
    "id": "Q9l9zfT5nal_",
    "outputId": "90748c87-40d4-4a16-9b81-1dd5509cb470"
   },
   "outputs": [
    {
     "name": "stdout",
     "output_type": "stream",
     "text": [
      "The confidence interval is  [15712.20183784 17543.7151356 ]\n",
      "Rounded to 4 digits: [1.571e+04, 1.754e+04]\n"
     ]
    }
   ],
   "source": [
    "confidence_interval(insurance_age_old.charges)"
   ]
  },
  {
   "cell_type": "markdown",
   "metadata": {},
   "source": [
    "After calculating the confidence interval for each age group, we conclude that the older the patient, the higher the medical insurance cost. This seems justified since older patients are more likely to need more care than younger patients, creating a "
   ]
  },
  {
   "cell_type": "markdown",
   "metadata": {
    "id": "-YiTWsOFnal_"
   },
   "source": [
    "### Cálculo de charges por BMI"
   ]
  },
  {
   "cell_type": "code",
   "execution_count": 24,
   "metadata": {
    "executionInfo": {
     "elapsed": 2,
     "status": "ok",
     "timestamp": 1666625472105,
     "user": {
      "displayName": "Marta Simón",
      "userId": "11515203871026250009"
     },
     "user_tz": -120
    },
    "id": "-Qfzj7v6nal_"
   },
   "outputs": [],
   "source": [
    "# En primer lugar, dividimos el dataset \n",
    "BMI_nodes = [0,18.5,25,30,100]\n",
    "insurance['BMI_bins'] = pd.cut(insurance['bmi'], bins=BMI_nodes, ordered=True, labels=['Underweight','Normal', 'Overweight', 'Obesity'])"
   ]
  },
  {
   "cell_type": "code",
   "execution_count": 25,
   "metadata": {
    "colab": {
     "base_uri": "https://localhost:8080/",
     "height": 285
    },
    "executionInfo": {
     "elapsed": 374,
     "status": "ok",
     "timestamp": 1666625472776,
     "user": {
      "displayName": "Marta Simón",
      "userId": "11515203871026250009"
     },
     "user_tz": -120
    },
    "id": "030UFiggnal_",
    "outputId": "9ec93b3b-ab24-4393-f1e4-89d0ff5b1299"
   },
   "outputs": [
    {
     "data": {
      "image/png": "[encoded data removed]",
      "text/plain": [
       "<Figure size 432x288 with 1 Axes>"
      ]
     },
     "metadata": {},
     "output_type": "display_data"
    }
   ],
   "source": [
    "plot = insurance['BMI_bins'].value_counts().sort_index().plot.bar(rot=0, xlabel='BMI_binned', ylabel ='Counts')"
   ]
  },
  {
   "cell_type": "markdown",
   "metadata": {
    "id": "XeoI0dyo36GO"
   },
   "source": [
    "#### Checking Hypothesis: Comprobar que los cargos van aumentando en función del BMI\n",
    "\n",
    "$$\n",
    "\\quad\\\\\n",
    "H_0 = \\{\\mu_{Underweight} = \\mu_{normal} = \\mu_{overweight}\\ = \\mu_{obesity}\\}\n",
    "\\quad\\\\\n",
    "$$\n",
    "\n",
    "Usamos ANOVA porque queremos comparar más de dos variables."
   ]
  },
  {
   "cell_type": "code",
   "execution_count": 43,
   "metadata": {
    "colab": {
     "base_uri": "https://localhost:8080/"
    },
    "executionInfo": {
     "elapsed": 178,
     "status": "ok",
     "timestamp": 1666629880925,
     "user": {
      "displayName": "Marta Simón",
      "userId": "11515203871026250009"
     },
     "user_tz": -120
    },
    "id": "9W90XUgo358q",
    "outputId": "85df8217-5843-4448-bba9-f128866c97fc"
   },
   "outputs": [
    {
     "data": {
      "text/plain": [
       "F_onewayResult(statistic=18.80499193254325, pvalue=5.997613229094973e-12)"
      ]
     },
     "execution_count": 43,
     "metadata": {},
     "output_type": "execute_result"
    }
   ],
   "source": [
    "anova = stats.f_oneway(insurance['charges'][insurance['BMI_bins'] == 'Underweight'],\n",
    "               insurance['charges'][insurance['BMI_bins'] == 'Normal'],\n",
    "               insurance['charges'][insurance['BMI_bins'] == 'Overweight'],\n",
    "               insurance['charges'][insurance['BMI_bins'] == 'Obesity'])\n",
    "anova"
   ]
  },
  {
   "cell_type": "markdown",
   "metadata": {
    "id": "IFHRRK7X4dsn"
   },
   "source": [
    "**Conclusiones ANOVA**\n",
    "\n",
    "Podemos ver en los resultados de ANOVA que el pvalue es mucho menor que 0.5, por lo tanto podemos descartar la $H_0$ de que todas las medias son iguales para todos los intervalos de BMI.\n",
    "\n",
    "Vamos a calcular los intervalos de confianza de cada grupo para demostrarlo."
   ]
  },
  {
   "cell_type": "markdown",
   "metadata": {
    "id": "AoG0J7rvnamA"
   },
   "source": [
    "#### Cálculo de charges para BMI = Underweight"
   ]
  },
  {
   "cell_type": "code",
   "execution_count": 26,
   "metadata": {
    "colab": {
     "base_uri": "https://localhost:8080/"
    },
    "executionInfo": {
     "elapsed": 9,
     "status": "ok",
     "timestamp": 1666625472776,
     "user": {
      "displayName": "Marta Simón",
      "userId": "11515203871026250009"
     },
     "user_tz": -120
    },
    "id": "YWRec-kLnamA",
    "outputId": "1001338a-68db-41c5-f709-ebdfe6b266c8"
   },
   "outputs": [
    {
     "name": "stdout",
     "output_type": "stream",
     "text": [
      "The confidence interval for males is  [ 5410.64371885 11904.59758592]\n",
      "Rounded to 4 digits: [5.411e+03, 1.19e+04]\n"
     ]
    }
   ],
   "source": [
    "insurance_bmi_under = insurance[insurance.BMI_bins == 'Underweight']\n",
    "confidence_interval(insurance_bmi_under.charges)"
   ]
  },
  {
   "cell_type": "markdown",
   "metadata": {
    "id": "_XAOROGOnamA"
   },
   "source": [
    "#### Cálculo de charges para BMI = Normal"
   ]
  },
  {
   "cell_type": "code",
   "execution_count": 27,
   "metadata": {
    "colab": {
     "base_uri": "https://localhost:8080/"
    },
    "executionInfo": {
     "elapsed": 6,
     "status": "ok",
     "timestamp": 1666625472776,
     "user": {
      "displayName": "Marta Simón",
      "userId": "11515203871026250009"
     },
     "user_tz": -120
    },
    "id": "NgHuuhZdnamA",
    "outputId": "4dd31c88-8ade-4f1e-b445-50cbb202dfd0"
   },
   "outputs": [
    {
     "name": "stdout",
     "output_type": "stream",
     "text": [
      "The confidence interval for males is  [ 9459.65852482 11411.22291341]\n",
      "Rounded to 4 digits: [9.46e+03, 1.141e+04]\n"
     ]
    }
   ],
   "source": [
    "insurance_bmi_normal = insurance[insurance.BMI_bins == 'Normal']\n",
    "confidence_interval(insurance_bmi_normal.charges)"
   ]
  },
  {
   "cell_type": "markdown",
   "metadata": {
    "id": "4-pE6pEcnamA"
   },
   "source": [
    "#### Cálculo de charges para BMI = Overweight"
   ]
  },
  {
   "cell_type": "code",
   "execution_count": 28,
   "metadata": {
    "colab": {
     "base_uri": "https://localhost:8080/"
    },
    "executionInfo": {
     "elapsed": 6,
     "status": "ok",
     "timestamp": 1666625472989,
     "user": {
      "displayName": "Marta Simón",
      "userId": "11515203871026250009"
     },
     "user_tz": -120
    },
    "id": "82TxoiD7namA",
    "outputId": "510f8d26-0774-4d8c-b8a5-700f91ccbd7f"
   },
   "outputs": [
    {
     "name": "stdout",
     "output_type": "stream",
     "text": [
      "The confidence interval for males is  [10193.01831487 11802.58944704]\n",
      "Rounded to 4 digits: [1.019e+04, 1.18e+04]\n"
     ]
    }
   ],
   "source": [
    "insurance_bmi_over = insurance[insurance.BMI_bins == 'Overweight']\n",
    "confidence_interval(insurance_bmi_over.charges)"
   ]
  },
  {
   "cell_type": "markdown",
   "metadata": {
    "id": "OdPc81_HnamA"
   },
   "source": [
    "#### Cálculo de charges para BMI = Obese"
   ]
  },
  {
   "cell_type": "code",
   "execution_count": 29,
   "metadata": {
    "colab": {
     "base_uri": "https://localhost:8080/"
    },
    "executionInfo": {
     "elapsed": 2,
     "status": "ok",
     "timestamp": 1666625473323,
     "user": {
      "displayName": "Marta Simón",
      "userId": "11515203871026250009"
     },
     "user_tz": -120
    },
    "id": "Q0h1en1lnamA",
    "outputId": "3f674012-dd77-4b49-f3a7-f4ea9f01c49c"
   },
   "outputs": [
    {
     "name": "stdout",
     "output_type": "stream",
     "text": [
      "The confidence interval for males is  [14485.93218569 16635.92045683]\n",
      "Rounded to 4 digits: [1.449e+04, 1.664e+04]\n"
     ]
    }
   ],
   "source": [
    "insurance_bmi_obesity = insurance[insurance.BMI_bins == 'Obesity']\n",
    "confidence_interval(insurance_bmi_obesity.charges)"
   ]
  },
  {
   "cell_type": "markdown",
   "metadata": {
    "id": "6fc_c14i4tzo"
   },
   "source": [
    "### Cálculo de charges por Smoke\n",
    "Vamos a comenzar proponiendo la siguiente hipótesis alternativa, teniendo en cuenta la hipótesis nula:\n",
    "\n",
    "$$H_0:\\{\\mu_{nonSmoker} > \\mu_{smoker}\\}$$\n",
    "$$H_A:\\{\\mu_{nonSmoker} \\leq \\mu_{smoker}\\}$$"
   ]
  },
  {
   "cell_type": "code",
   "execution_count": 49,
   "metadata": {
    "colab": {
     "base_uri": "https://localhost:8080/"
    },
    "executionInfo": {
     "elapsed": 4,
     "status": "ok",
     "timestamp": 1666630121064,
     "user": {
      "displayName": "Marta Simón",
      "userId": "11515203871026250009"
     },
     "user_tz": -120
    },
    "id": "jwyCdkJW4yCu",
    "outputId": "4e19cf0a-daac-414a-ea60-3a3598b92ffe"
   },
   "outputs": [
    {
     "data": {
      "text/plain": [
       "Ttest_indResult(statistic=-32.751887766341824, pvalue=2.94473222335849e-103)"
      ]
     },
     "execution_count": 49,
     "metadata": {},
     "output_type": "execute_result"
    }
   ],
   "source": [
    "insurance_smoker = insurance[insurance.smoker == 'yes']\n",
    "insurance_nonSmoker = insurance[insurance.smoker == 'no']\n",
    "stats.ttest_ind(a=insurance_nonSmoker.charges, b=insurance_smoker.charges, equal_var=False, alternative='less')"
   ]
  },
  {
   "cell_type": "markdown",
   "metadata": {
    "id": "D1ccWeEn5aQt"
   },
   "source": [
    "Como el pvalue es menor que 0.05, al estar calculandolo con un intervalo de confianza del 95%, para rechazar la hipótesis nula, dicho valor deberá ser menor. Como esto se cumple, podemos rechazar la hipótesis nula.\n",
    "\n",
    "A continuación, vamos a calcular los intervalos de confianza para cada uno de los datasets, para comprobar que nuestro resultado y la decisión de rechazar $H_0$ tiene sentido."
   ]
  },
  {
   "cell_type": "code",
   "execution_count": 50,
   "metadata": {
    "colab": {
     "base_uri": "https://localhost:8080/"
    },
    "executionInfo": {
     "elapsed": 300,
     "status": "ok",
     "timestamp": 1666630249423,
     "user": {
      "displayName": "Marta Simón",
      "userId": "11515203871026250009"
     },
     "user_tz": -120
    },
    "id": "GsuAo3Xm4yAo",
    "outputId": "9387b6f1-c80c-47e9-a40b-d2e8817e7faf"
   },
   "outputs": [
    {
     "name": "stdout",
     "output_type": "stream",
     "text": [
      "The confidence interval for males is  [30683.64622989 33416.81743318]\n",
      "Rounded to 4 digits: [3.068e+04, 3.342e+04]\n"
     ]
    }
   ],
   "source": [
    "confidence_interval(insurance_smoker.charges)"
   ]
  },
  {
   "cell_type": "code",
   "execution_count": 51,
   "metadata": {
    "colab": {
     "base_uri": "https://localhost:8080/"
    },
    "executionInfo": {
     "elapsed": 189,
     "status": "ok",
     "timestamp": 1666630257536,
     "user": {
      "displayName": "Marta Simón",
      "userId": "11515203871026250009"
     },
     "user_tz": -120
    },
    "id": "rrtNbaBm4x9_",
    "outputId": "38f21b0a-1470-42ad-e753-47895832dc1b"
   },
   "outputs": [
    {
     "name": "stdout",
     "output_type": "stream",
     "text": [
      "The confidence interval for males is  [8074.12262003 8794.41397569]\n",
      "Rounded to 4 digits: [8.074e+03, 8.794e+03]\n"
     ]
    }
   ],
   "source": [
    "confidence_interval(insurance_nonSmoker.charges)"
   ]
  },
  {
   "cell_type": "markdown",
   "metadata": {
    "id": "bEuQ3PY36EVj"
   },
   "source": [
    "**Conclusiones de la variable Smoker**\n",
    "Podemos ver que a los fumadores les cobran entre 30K y 33K mientras que a los no fumadores les cobran entre 8K y 8.7K."
   ]
  },
  {
   "cell_type": "markdown",
   "metadata": {},
   "source": [
    "# Bibliography"
   ]
  },
  {
   "cell_type": "markdown",
   "metadata": {},
   "source": [
    "[1] \"Global status report on noncommunicable diseases 2014\". World Health Organization\n",
    "\n",
    "[2] Rodin, J., Silberstein, L., & Striegel-Moore, R. (1984). Women and weight: A normative discontent. Nebraska Symposium on Motivation, 32, 267–307.\n",
    "\n",
    "[3] Stevens, J., Cai, J., Pamuk, E.R., Williamson, D.F., Thun, M.J. and Wood, J.L. (1998). The Effect of Age on the Association between Body-Mass Index and Mortality. New England Journal of Medicine, [online] 338(1), pp.1–7. doi:10.1056/nejm199801013380101."
   ]
  },
  {
   "cell_type": "code",
   "execution_count": null,
   "metadata": {},
   "outputs": [],
   "source": []
  }
 ],
 "metadata": {
  "colab": {
   "provenance": [],
   "toc_visible": true
  },
  "kernelspec": {
   "display_name": "Python 3",
   "language": "python",
   "name": "python3"
  },
  "language_info": {
   "codemirror_mode": {
    "name": "ipython",
    "version": 3
   },
   "file_extension": ".py",
   "mimetype": "text/x-python",
   "name": "python",
   "nbconvert_exporter": "python",
   "pygments_lexer": "ipython3",
   "version": "3.8.8"
  },
  "vscode": {
   "interpreter": {
    "hash": "254d5da2b2463a80f44ff29a715a48dc9ad32bd98d892ab77dfa92f9d9b0ec63"
   }
  }
 },
 "nbformat": 4,
 "nbformat_minor": 4
}
